{
  "nbformat": 4,
  "nbformat_minor": 0,
  "metadata": {
    "colab": {
      "name": "BenchmarkNET_MLP.ipynb",
      "provenance": [],
      "collapsed_sections": [
        "ejxxOqj4Uzfp",
        "RnLGCKWPoAup",
        "kuVoRe2WoMnU",
        "AbXLkAXrfWbc"
      ],
      "mount_file_id": "1I6d7kQpz0h5q4Sbtx90TK0qUG9HD0s07",
      "authorship_tag": "ABX9TyN7SRAL26QcnR9e3b6vzesm",
      "include_colab_link": true
    },
    "kernelspec": {
      "display_name": "Python 3",
      "name": "python3"
    },
    "language_info": {
      "name": "python"
    },
    "accelerator": "GPU"
  },
  "cells": [
    {
      "cell_type": "markdown",
      "metadata": {
        "id": "view-in-github",
        "colab_type": "text"
      },
      "source": [
        "<a href=\"https://colab.research.google.com/github/cengizmehmet/DesignPatterns/blob/main/BenchmarkNET_MLP/BenchmarkNET_MLP.ipynb\" target=\"_parent\"><img src=\"https://colab.research.google.com/assets/colab-badge.svg\" alt=\"Open In Colab\"/></a>"
      ]
    },
    {
      "cell_type": "markdown",
      "metadata": {
        "id": "B3WEAsv2ahop"
      },
      "source": [
        "# **AN MLP FOR BENCHMARKING**"
      ]
    },
    {
      "cell_type": "markdown",
      "source": [
        "**Prepared by Mehmet CENGIZ**\n",
        "\n",
        "ORCID: 0000-0003-4972-167X"
      ],
      "metadata": {
        "id": "QYq8MWHIwe7N"
      }
    },
    {
      "cell_type": "markdown",
      "source": [
        "\n",
        "\n",
        "---\n",
        "\n"
      ],
      "metadata": {
        "id": "SKvgmToZwiNv"
      }
    },
    {
      "cell_type": "markdown",
      "metadata": {
        "id": "sKaAOTStahlu"
      },
      "source": [
        "This particular script was created to design a deep network that can predict the performance of a given system. It is aimed to help consumers to choose computer systems that fit their needs. In order to realise this, [The Standard Performance Evaluation Corporation's](https://www.spec.org) benchmarking dataset, which was presented in 2006, was selected to train the network. It is called [SPEC 2006 Dataset](https://www.spec.org/cgi-bin/osgresults?conf=cpu2006&op=form).\n",
        "\n",
        "\n",
        "The dataset is quite messy even though practitioners gathered benchmark specifications in it carefully. In order to present a common script to clean the dataset, we created a [script](https://github.com/cengizmehmet/Databases/blob/master/SPEC2006/SPEC2006_Cleaner.ipynb) named *SPEC2006_Cleaner*. The cleaning process is explained in detail in the script. As a result, we obtained a [modified file](https://github.com/cengizmehmet/Databases/blob/master/SPEC2006/SPEC2006_modified.xlsx). In case you need the original file you can visit [here](https://github.com/cengizmehmet/Databases/blob/master/SPEC2006/SPEC2006_Original.csv)."
      ]
    },
    {
      "cell_type": "markdown",
      "metadata": {
        "id": "YNTuJGRnahf_"
      },
      "source": [
        "### Necessary dependencies and libraries"
      ]
    },
    {
      "cell_type": "code",
      "metadata": {
        "id": "Jh9LCXhLJ2Zk"
      },
      "source": [
        "import pandas as pd\n",
        "import numpy as np\n",
        "import tensorflow as tf\n",
        "from tensorflow import keras\n",
        "from tensorflow.keras.layers import Dense\n",
        "from tensorflow.keras import optimizers\n",
        "from keras.models import Sequential\n",
        "from sklearn.metrics import mean_squared_error\n",
        "from sklearn.metrics import r2_score\n",
        "import matplotlib.pyplot as plt\n",
        "from enum import Enum\n",
        "from typing import Tuple\n",
        "import math\n",
        "from gc import callbacks"
      ],
      "execution_count": 54,
      "outputs": []
    },
    {
      "cell_type": "markdown",
      "source": [
        "**Dependencies:**"
      ],
      "metadata": {
        "id": "rqug2QnpTSyj"
      }
    },
    {
      "cell_type": "markdown",
      "source": [
        "The dependencies of this script we used can be found in [the requirements file](https://github.com/cengizmehmet/Benchmarks/blob/master/BenchmarkNET_MLP/requirements.txt)."
      ],
      "metadata": {
        "id": "yMWMCT7fDcVO"
      }
    },
    {
      "cell_type": "markdown",
      "metadata": {
        "id": "5eL9US6Dbt70"
      },
      "source": [
        "## **DATA**"
      ]
    },
    {
      "cell_type": "markdown",
      "metadata": {
        "id": "IYggWrvqahi0"
      },
      "source": [
        "The dataset contains 22 columns. While 11 columns are string-type, 9 columns are integer-type. Except for them, there are two more columns. The columns `Result` and `Baseline` are potential target attributes and they are float-type. The problem here is that needs to be solved is to change data types to the formats that our model will accept."
      ]
    },
    {
      "cell_type": "markdown",
      "source": [
        "### **Dataset**"
      ],
      "metadata": {
        "id": "ejxxOqj4Uzfp"
      }
    },
    {
      "cell_type": "markdown",
      "source": [
        "**In our case, we access the dataset from our own Google Drive folder. Thus, in your study, you have to change the path where you access the dataset.**"
      ],
      "metadata": {
        "id": "e3GS_HWNU8ub"
      }
    },
    {
      "cell_type": "code",
      "metadata": {
        "id": "YUGZ8N6_elfX"
      },
      "source": [
        "path = '/content/drive/MyDrive/Colab Notebooks/Datasets/SPEC/SPEC2006_modified.xlsx' # DO NOT FORGET TO CHANGE THE PATH"
      ],
      "execution_count": 55,
      "outputs": []
    },
    {
      "cell_type": "code",
      "metadata": {
        "id": "wVbQAISuelcg"
      },
      "source": [
        "dataset = pd.read_excel(path)"
      ],
      "execution_count": 56,
      "outputs": []
    },
    {
      "cell_type": "code",
      "metadata": {
        "id": "3E2VtKMuelW8",
        "colab": {
          "base_uri": "https://localhost:8080/"
        },
        "outputId": "2cc78761-e6e6-4400-e5ef-77c05289a3cc"
      },
      "source": [
        "print(dataset.columns)\n",
        "print(\"-----\")\n",
        "rows, columns = dataset.shape\n",
        "print(\"Columns: \" + str(columns) + \"\\n\" + \"Rows: \" + str(rows))\n",
        "print(\"-----\")\n",
        "print(dataset.dtypes)"
      ],
      "execution_count": 57,
      "outputs": [
        {
          "output_type": "stream",
          "name": "stdout",
          "text": [
            "Index(['Hardware_Vendor', 'System', 'Result', 'Baseline', '#_Cores', '#_Chips',\n",
            "       'Processor', 'Processor_MHz', '#_Threads', 'Auto_Parallelization',\n",
            "       'Base_Pointer_Size', 'Peak_Pointer_Size', '1st_Level_Cache',\n",
            "       '2nd_Level_Cache', '3rd_Level_Cache', 'Other_Cache', 'Memory',\n",
            "       'Operating_System', 'File_System', 'Compiler', 'HW_Avail', 'SW_Avail'],\n",
            "      dtype='object')\n",
            "-----\n",
            "Columns: 22\n",
            "Rows: 45341\n",
            "-----\n",
            "Hardware_Vendor          object\n",
            "System                   object\n",
            "Result                  float64\n",
            "Baseline                float64\n",
            "#_Cores                   int64\n",
            "#_Chips                   int64\n",
            "Processor                object\n",
            "Processor_MHz             int64\n",
            "#_Threads                 int64\n",
            "Auto_Parallelization     object\n",
            "Base_Pointer_Size        object\n",
            "Peak_Pointer_Size        object\n",
            "1st_Level_Cache           int64\n",
            "2nd_Level_Cache           int64\n",
            "3rd_Level_Cache           int64\n",
            "Other_Cache               int64\n",
            "Memory                    int64\n",
            "Operating_System         object\n",
            "File_System              object\n",
            "Compiler                 object\n",
            "HW_Avail                 object\n",
            "SW_Avail                 object\n",
            "dtype: object\n"
          ]
        }
      ]
    },
    {
      "cell_type": "markdown",
      "source": [
        "To make sure prevent wrong inputs, enumerated column names are a reasonable solution."
      ],
      "metadata": {
        "id": "yLytrOd_iPVo"
      }
    },
    {
      "cell_type": "code",
      "source": [
        "class Column_Names(Enum):\n",
        "  result = \"Result\"\n",
        "  vendor = \"Hardware_Vendor\"\n",
        "  system = \"System\""
      ],
      "metadata": {
        "id": "rYRUxeKZiQD_"
      },
      "execution_count": 58,
      "outputs": []
    },
    {
      "cell_type": "markdown",
      "source": [
        "### **Preprocessing**"
      ],
      "metadata": {
        "id": "RnLGCKWPoAup"
      }
    },
    {
      "cell_type": "markdown",
      "metadata": {
        "id": "wuCTSQHAbt4q"
      },
      "source": [
        "As said earlier, a modified version of SPEC 2006 is going to be used. We eliminated some rows and changed some columns to make the dataset more useful for our implementation.\n",
        "\n",
        "To train our models in this script, we selected the `Result` column as the target attribute and hence we do not need the `Baseline` column anymore. The `Result` column represents the response time of the system that is run under full capacity."
      ]
    },
    {
      "cell_type": "code",
      "source": [
        "dataset = dataset.drop(['Baseline'], axis = 1)"
      ],
      "metadata": {
        "id": "UiJcms1HVF5P"
      },
      "execution_count": 59,
      "outputs": []
    },
    {
      "cell_type": "markdown",
      "source": [
        "**Method Name:** adjust_columns\n",
        "\n",
        "**Parameters:** pd.DataFrame, Column_Names, bool, bool\n",
        "\n",
        "**Return:** pd.DataFrame\n",
        "\n",
        "This function adjusts data in columns according to user needs. If:\n",
        "\n",
        "*   `normalize == True` then the function factorizes non-numeric columns and normalizes numeric values between [0, 1]. Besides, if the \"normalize\" parameter is true, the \"non_numeric\" value is insignificant.\n",
        "*   `non_numerics == True` then the function factorizes non-numerics only\n",
        "*   otherwise, the function factorizes all columns"
      ],
      "metadata": {
        "id": "ZxP-DVJMbUvH"
      }
    },
    {
      "cell_type": "code",
      "source": [
        "def adjust_columns(dataset: pd.DataFrame, column_name: Column_Names, normalize: bool, non_numerics: bool) -> pd.DataFrame:\n",
        "  i = 0\n",
        "  while i < len(dataset.dtypes):\n",
        "    if dataset.keys()[i] != column_name.value:\n",
        "      if normalize:\n",
        "        if dataset.dtypes[i] == 'O':\n",
        "          dataset[dataset.keys()[i]] = pd.factorize(dataset[dataset.keys()[i]])[0]\n",
        "        else:\n",
        "          dataset[dataset.keys()[i]] = (dataset[dataset.keys()[i]] - dataset[dataset.keys()[i]].min()) / (dataset[dataset.keys()[i]].max() - dataset[dataset.keys()[i]].min())\n",
        "      else:\n",
        "        if non_numerics:\n",
        "          if dataset.dtypes[i] == 'O':\n",
        "            dataset[dataset.keys()[i]] = pd.factorize(dataset[dataset.keys()[i]])[0]\n",
        "          else:\n",
        "            if dataset.keys()[i] != column_name.value:\n",
        "              dataset[dataset.keys()[i]] = pd.to_numeric(dataset[dataset.keys()[i]])[0]\n",
        "        else:\n",
        "          if dataset.keys()[i] != column_name.value:\n",
        "            dataset[dataset.keys()[i]] = pd.factorize(dataset[dataset.keys()[i]])[0]\n",
        "    i += 1\n",
        "  return dataset"
      ],
      "metadata": {
        "id": "P--r3xAV8GwA"
      },
      "execution_count": 60,
      "outputs": []
    },
    {
      "cell_type": "markdown",
      "source": [
        "### **Splitting**"
      ],
      "metadata": {
        "id": "kuVoRe2WoMnU"
      }
    },
    {
      "cell_type": "markdown",
      "source": [
        "**Method Name:** split_data\n",
        "\n",
        "**Parameters:** pd.DataFrame, float, bool, Column_Names\n",
        "\n",
        "**Return:** list, list, list, list, list, list\n",
        "\n",
        "This function splits the dataset to test and train. The parameter that holds column names is used for defining the target column. Using the `shuffle` parameter, the function shuffles the dataset or not. As a result, this produces 6 different lists that include the parts of the dataset as below:\n",
        "\n",
        "* `train`: the training data\n",
        "* `X_train`: columns of the training data without the target column\n",
        "* `y_train`: the target column of the training data\n",
        "* `test`: the test data\n",
        "* `X_test`: columns of the test data without the target column\n",
        "* `y_test`: the target column of the test data"
      ],
      "metadata": {
        "id": "JXujDgfOcmSJ"
      }
    },
    {
      "cell_type": "code",
      "metadata": {
        "id": "LQJ3OP_3fFLn"
      },
      "source": [
        "def split_data(dataset: pd.DataFrame, data_split: float, shuffle: bool, target_column: Column_Names) -> Tuple[list, list, list, list, list, list]:  \n",
        "  target_index = dataset.columns.get_loc(target_column.value)\n",
        "  data = np.array(dataset)\n",
        "  rows, columns = data.shape\n",
        "  if shuffle:\n",
        "    np.random.shuffle(data)\n",
        "  train_size = int(data_split * rows)\n",
        "  test_size = rows - train_size\n",
        "  train = data[:train_size].T\n",
        "  y_train = train[target_index]\n",
        "  X_train = np.delete(train.T, obj = target_index, axis = 1)\n",
        "  test = data[train_size:].T\n",
        "  y_test = test[target_index]\n",
        "  X_test = np.delete(test.T, obj = target_index, axis = 1)\n",
        "  return train.T, X_train, y_train, test.T, X_test, y_test"
      ],
      "execution_count": 61,
      "outputs": []
    },
    {
      "cell_type": "markdown",
      "metadata": {
        "id": "AbXLkAXrfWbc"
      },
      "source": [
        "## **MODEL**"
      ]
    },
    {
      "cell_type": "markdown",
      "source": [
        "Problem Definition\n",
        "\n",
        "As the `Result` column has continuous values, the problem we try to solve is a regression problem, and hence, due to the nature of regression problems, `softmax` cannot be used as the activation function. Also, `accuracy` is not good for measuring performance."
      ],
      "metadata": {
        "id": "M6-Y8u1cnmrY"
      }
    },
    {
      "cell_type": "markdown",
      "metadata": {
        "id": "EKSp_mCwiSHY"
      },
      "source": [
        "**Method Name:** MLP\n",
        "\n",
        "**Parameters:** Tuple, list[int], list[Activation_Functions]\n",
        "\n",
        "**Return:** keras.Sequential\n",
        "\n",
        "This function creates an MLP model according to the input shape, number of neurons, and activation functions. The parameter `layers_neurons` holds the number of neurons of each layer. The point to be noted is that the number of layers and the number of activation functions must be equal.\n",
        "\n",
        "> Example input:\n",
        "*   `input_shape` --> Tuple --> (22, )\n",
        "*   `neurons_in_layers` --> List --> [1024, 1024, 2048]\n",
        "*   `activations` --> List --> ['relu', 'relu', 'relu']\n",
        "\n",
        "A model such as above has 22 neurons in the first layer and involves 3 hidden layers with 1024, 1024, and 2048 neurons in each layer respectively. Also, each hidden layer is activated using ReLU.\n",
        "\n",
        "Due to our case, there is no need to specify the final layer. It is fixed to have a 1 output neuron with the activation function of \"linear\".\n"
      ]
    },
    {
      "cell_type": "code",
      "metadata": {
        "id": "PG3fNzi6fFIh"
      },
      "source": [
        "def MLP(input_shape: Tuple, neurons_in_layers: list, activations: list) -> keras.Sequential:\n",
        "  count = len(neurons_in_layers)\n",
        "  model = Sequential()\n",
        "  model.add(Dense(units = neurons_in_layers[0], activation = activations[0], input_shape = input_shape))\n",
        "  for i in range(1, count):\n",
        "    model.add(Dense(units = neurons_in_layers[i], activation = activations[i]))\n",
        "  model.add(Dense(units = 1, activation='linear'))\n",
        "  return model"
      ],
      "execution_count": 62,
      "outputs": []
    },
    {
      "cell_type": "markdown",
      "metadata": {
        "id": "X4xxrq0Rt3gv"
      },
      "source": [
        "## **IMPLEMENTATION**"
      ]
    },
    {
      "cell_type": "markdown",
      "metadata": {
        "id": "Iy8zpRWvt5qF"
      },
      "source": [
        "After that point, there are a few jobs left. First, we need to prepare the dataset and then decide on the hyperparameters. "
      ]
    },
    {
      "cell_type": "markdown",
      "source": [
        "### Enumerated types:"
      ],
      "metadata": {
        "id": "adguIMcn8ZrQ"
      }
    },
    {
      "cell_type": "markdown",
      "source": [
        "We offer some metrics as enumerated. These can be used for both loss and performance metrics."
      ],
      "metadata": {
        "id": "YT_XVORLrAus"
      }
    },
    {
      "cell_type": "code",
      "source": [
        "class Metrics(Enum):\n",
        "  MAE = 'mean_absolute_error'\n",
        "  MSE = 'mean_squared_error'\n",
        "  RMS = 'root_mean_squared_error'"
      ],
      "metadata": {
        "id": "uo4nYadArRZb"
      },
      "execution_count": 63,
      "outputs": []
    },
    {
      "cell_type": "markdown",
      "source": [
        "In addition, we offer some optimizers and learning rate schedules:\n",
        "\n",
        "Each optimizer has a learning rate. In case the developer forget to specify the learning rate, `Keras` defines default values as below:\n",
        "\n",
        "*   `SGD`: 0.01\n",
        "*   `RMSPROP`: 0.001\n",
        "*   `Adam`: 0.001"
      ],
      "metadata": {
        "id": "yDOVu-Mg7TFx"
      }
    },
    {
      "cell_type": "code",
      "source": [
        "class Optimizers(Enum):\n",
        "  Adam = \"adam\"\n",
        "  Sgd = \"sgd\"\n",
        "  Rmsprop = \"rmsprop\""
      ],
      "metadata": {
        "id": "SyYQaTI57dQp"
      },
      "execution_count": 64,
      "outputs": []
    },
    {
      "cell_type": "code",
      "source": [
        "class Learning_Rate_Schedule(Enum):\n",
        "  constant = 1\n",
        "  time_based_decay = 2\n",
        "  step_decay = 3"
      ],
      "metadata": {
        "id": "spFs1AvHTGtC"
      },
      "execution_count": 65,
      "outputs": []
    },
    {
      "cell_type": "markdown",
      "source": [
        "To prevent wrong inputs, activation functions that our models can accept must be enumerated."
      ],
      "metadata": {
        "id": "Ji3FY0K5lwFw"
      }
    },
    {
      "cell_type": "code",
      "source": [
        "class Activation_Functions(Enum):\n",
        "  ELU = \"elu\"\n",
        "  EXPO = \"exponential\"\n",
        "  GELU = \"gelu\"\n",
        "  HARD_SIGMOID = \"hard_sigmoid\"\n",
        "  LINEAR = \"linear\"\n",
        "  RELU = \"relu\"\n",
        "  SELU = \"selu\"\n",
        "  SIGMOID = \"sigmoid\"\n",
        "  SOFTPLUS = \"softplus\"\n",
        "  SOFTSIGN = \"softsign\"\n",
        "  SWISH = \"swish\"\n",
        "  TANH = \"tanh\""
      ],
      "metadata": {
        "id": "0-EoeEqPMiIW"
      },
      "execution_count": 66,
      "outputs": []
    },
    {
      "cell_type": "markdown",
      "metadata": {
        "id": "HY7tQdgrt9Mu"
      },
      "source": [
        "### Parameters:"
      ]
    },
    {
      "cell_type": "markdown",
      "source": [
        "Dataset:"
      ],
      "metadata": {
        "id": "vE7ouSSaK346"
      }
    },
    {
      "cell_type": "code",
      "source": [
        "dataset = adjust_columns(dataset, Column_Names.result, False, False)\n",
        "m, n = dataset.shape\n",
        "data_split = 0.8"
      ],
      "metadata": {
        "id": "MtX7hipLK56z"
      },
      "execution_count": 67,
      "outputs": []
    },
    {
      "cell_type": "code",
      "metadata": {
        "id": "qLcF8NjT_z-5"
      },
      "source": [
        "train, X_train, y_train, test, X_test, y_test = split_data(dataset, data_split, True, Column_Names.result)"
      ],
      "execution_count": 68,
      "outputs": []
    },
    {
      "cell_type": "markdown",
      "source": [
        "Compiler:"
      ],
      "metadata": {
        "id": "iDlkO2uhV0g7"
      }
    },
    {
      "cell_type": "code",
      "source": [
        "loss = Metrics.MAE\n",
        "optimizer = Optimizers.Adam\n",
        "learning_rate = 0.001\n",
        "lr_schedule = Learning_Rate_Schedule.time_based_decay\n",
        "metrics = [Metrics.MAE.value]"
      ],
      "metadata": {
        "id": "OSJVLdJqVxZ4"
      },
      "execution_count": 69,
      "outputs": []
    },
    {
      "cell_type": "markdown",
      "source": [
        "Fitter:"
      ],
      "metadata": {
        "id": "s4s_Hds3V4ox"
      }
    },
    {
      "cell_type": "code",
      "source": [
        "epochs = 250\n",
        "batch_size = 10\n",
        "validation_split = 0.2\n",
        "decay_drop_rate = 0.5\n",
        "epoch_drop = 10.0\n",
        "verbose = 1"
      ],
      "metadata": {
        "id": "73yrf-LUVxUp"
      },
      "execution_count": 70,
      "outputs": []
    },
    {
      "cell_type": "markdown",
      "source": [
        "Model:"
      ],
      "metadata": {
        "id": "MJw32kY5K-5z"
      }
    },
    {
      "cell_type": "code",
      "metadata": {
        "id": "Tkm-XMdQ_0BP"
      },
      "source": [
        "input_shape = ((n - 1), )\n",
        "neurons_in_layers = [1024, 512, 256, 128, 64, 32 ,16]\n",
        "activations = ([Activation_Functions.RELU.value, Activation_Functions.RELU.value, Activation_Functions.RELU.value,\n",
        "                Activation_Functions.RELU.value, Activation_Functions.RELU.value, Activation_Functions.RELU.value,\n",
        "                Activation_Functions.RELU.value])"
      ],
      "execution_count": 71,
      "outputs": []
    },
    {
      "cell_type": "markdown",
      "metadata": {
        "id": "7NKU24KVxnBk"
      },
      "source": [
        "### Initializing:"
      ]
    },
    {
      "cell_type": "code",
      "metadata": {
        "id": "0iffY5BJ_z3M"
      },
      "source": [
        "model = MLP(input_shape, neurons_in_layers, activations)"
      ],
      "execution_count": 72,
      "outputs": []
    },
    {
      "cell_type": "code",
      "metadata": {
        "colab": {
          "base_uri": "https://localhost:8080/"
        },
        "id": "WR2MYgdryQUE",
        "outputId": "f265905e-df17-4374-d412-2e62718bed11"
      },
      "source": [
        "model.summary()"
      ],
      "execution_count": 73,
      "outputs": [
        {
          "output_type": "stream",
          "name": "stdout",
          "text": [
            "Model: \"sequential_2\"\n",
            "_________________________________________________________________\n",
            " Layer (type)                Output Shape              Param #   \n",
            "=================================================================\n",
            " dense_13 (Dense)            (None, 1024)              21504     \n",
            "                                                                 \n",
            " dense_14 (Dense)            (None, 512)               524800    \n",
            "                                                                 \n",
            " dense_15 (Dense)            (None, 256)               131328    \n",
            "                                                                 \n",
            " dense_16 (Dense)            (None, 128)               32896     \n",
            "                                                                 \n",
            " dense_17 (Dense)            (None, 64)                8256      \n",
            "                                                                 \n",
            " dense_18 (Dense)            (None, 32)                2080      \n",
            "                                                                 \n",
            " dense_19 (Dense)            (None, 16)                528       \n",
            "                                                                 \n",
            " dense_20 (Dense)            (None, 1)                 17        \n",
            "                                                                 \n",
            "=================================================================\n",
            "Total params: 721,409\n",
            "Trainable params: 721,409\n",
            "Non-trainable params: 0\n",
            "_________________________________________________________________\n"
          ]
        }
      ]
    },
    {
      "cell_type": "markdown",
      "source": [
        "### Compiling and running:"
      ],
      "metadata": {
        "id": "bFvvsG-pvtEs"
      }
    },
    {
      "cell_type": "code",
      "source": [
        "if lr_schedule.value == 1:\n",
        "  if optimizer.value == \"adam\":\n",
        "    optimizer = optimizers.Adam(learning_rate = learning_rate)\n",
        "  elif optimizer.value == \"sgd\":\n",
        "    optimizer = optimizers.SGD(learning_rate = learning_rate)\n",
        "  elif optimizer.value == \"rmsprop\":\n",
        "    optimizer = optimizers.RMSprop(learning_rate = learning_rate)\n",
        "  model.compile(\n",
        "      loss = loss.value,\n",
        "      optimizer = optimizer,\n",
        "      metrics = metrics\n",
        "      )\n",
        "  history = model.fit(\n",
        "      X_train,\n",
        "      y_train,\n",
        "      epochs = epochs,\n",
        "      batch_size = batch_size,\n",
        "      verbose = verbose,\n",
        "      validation_split = validation_split\n",
        "      )\n",
        "elif lr_schedule.value == 2:\n",
        "  model.compile(\n",
        "      loss = loss.value,\n",
        "      optimizer = optimizer.value,\n",
        "      metrics = metrics\n",
        "      )  \n",
        "  decay = learning_rate / epochs\n",
        "  def lr_time_based_decay(epoch, lr):\n",
        "    return lr * 1 / (1 + decay * epoch)\n",
        "  history = model.fit(\n",
        "      X_train,\n",
        "      y_train,\n",
        "      epochs = epochs,\n",
        "      validation_split = validation_split,\n",
        "      batch_size = batch_size,\n",
        "      callbacks = [tf.keras.callbacks.LearningRateScheduler(lr_time_based_decay, verbose = 1)],\n",
        "      )  \n",
        "elif lr_schedule.value == 3:\n",
        "  model.compile(\n",
        "      loss = loss.value,\n",
        "      optimizer = optimizer.value,\n",
        "      metrics = metrics\n",
        "      )  \n",
        "  def lr_step_decay(epoch, lr):\n",
        "    drop_rate = decay_drop_rate\n",
        "    epochs_drop = epoch_drop\n",
        "    return learning_rate * math.pow(drop_rate, math.floor(epoch/epochs_drop))\n",
        "  history = model.fit(\n",
        "      X_train,\n",
        "      y_train,\n",
        "      epochs = epochs,\n",
        "      validation_split = validation_split,\n",
        "      batch_size = batch_size,\n",
        "      callbacks = [tf.keras.callbacks.LearningRateScheduler(lr_step_decay, verbose = 1)],\n",
        "      )"
      ],
      "metadata": {
        "id": "f06-dlbGStia",
        "colab": {
          "base_uri": "https://localhost:8080/"
        },
        "outputId": "8917b48e-da49-4a80-a402-7bf1fd5941c0"
      },
      "execution_count": 74,
      "outputs": [
        {
          "output_type": "stream",
          "name": "stdout",
          "text": [
            "\n",
            "Epoch 00001: LearningRateScheduler setting learning rate to 0.0010000000474974513.\n",
            "Epoch 1/250\n",
            "2902/2902 [==============================] - 11s 4ms/step - loss: 260.1501 - mean_absolute_error: 260.1501 - val_loss: 214.1141 - val_mean_absolute_error: 214.1141 - lr: 0.0010\n",
            "\n",
            "Epoch 00002: LearningRateScheduler setting learning rate to 0.0009999960475132613.\n",
            "Epoch 2/250\n",
            "2902/2902 [==============================] - 10s 4ms/step - loss: 209.2130 - mean_absolute_error: 209.2130 - val_loss: 189.1825 - val_mean_absolute_error: 189.1825 - lr: 1.0000e-03\n",
            "\n",
            "Epoch 00003: LearningRateScheduler setting learning rate to 0.0009999880894717933.\n",
            "Epoch 3/250\n",
            "2902/2902 [==============================] - 10s 4ms/step - loss: 183.5093 - mean_absolute_error: 183.5093 - val_loss: 207.9121 - val_mean_absolute_error: 207.9121 - lr: 9.9999e-04\n",
            "\n",
            "Epoch 00004: LearningRateScheduler setting learning rate to 0.0009999760570066191.\n",
            "Epoch 4/250\n",
            "2902/2902 [==============================] - 10s 4ms/step - loss: 166.2152 - mean_absolute_error: 166.2152 - val_loss: 148.1534 - val_mean_absolute_error: 148.1534 - lr: 9.9998e-04\n",
            "\n",
            "Epoch 00005: LearningRateScheduler setting learning rate to 0.0009999600665800896.\n",
            "Epoch 5/250\n",
            "2902/2902 [==============================] - 10s 4ms/step - loss: 151.9290 - mean_absolute_error: 151.9290 - val_loss: 137.0754 - val_mean_absolute_error: 137.0754 - lr: 9.9996e-04\n",
            "\n",
            "Epoch 00006: LearningRateScheduler setting learning rate to 0.0009999401182396999.\n",
            "Epoch 6/250\n",
            "2902/2902 [==============================] - 10s 4ms/step - loss: 139.9419 - mean_absolute_error: 139.9419 - val_loss: 125.6914 - val_mean_absolute_error: 125.6914 - lr: 9.9994e-04\n",
            "\n",
            "Epoch 00007: LearningRateScheduler setting learning rate to 0.0009999160956204154.\n",
            "Epoch 7/250\n",
            "2902/2902 [==============================] - 10s 4ms/step - loss: 135.1439 - mean_absolute_error: 135.1439 - val_loss: 152.0181 - val_mean_absolute_error: 152.0181 - lr: 9.9992e-04\n",
            "\n",
            "Epoch 00008: LearningRateScheduler setting learning rate to 0.000999888115183189.\n",
            "Epoch 8/250\n",
            "2902/2902 [==============================] - 10s 4ms/step - loss: 129.6189 - mean_absolute_error: 129.6189 - val_loss: 119.6046 - val_mean_absolute_error: 119.6046 - lr: 9.9989e-04\n",
            "\n",
            "Epoch 00009: LearningRateScheduler setting learning rate to 0.0009998561769755123.\n",
            "Epoch 9/250\n",
            "2902/2902 [==============================] - 10s 4ms/step - loss: 125.6033 - mean_absolute_error: 125.6033 - val_loss: 133.2741 - val_mean_absolute_error: 133.2741 - lr: 9.9986e-04\n",
            "\n",
            "Epoch 00010: LearningRateScheduler setting learning rate to 0.0009998201646337465.\n",
            "Epoch 10/250\n",
            "2902/2902 [==============================] - 10s 4ms/step - loss: 119.9739 - mean_absolute_error: 119.9739 - val_loss: 106.7433 - val_mean_absolute_error: 106.7433 - lr: 9.9982e-04\n",
            "\n",
            "Epoch 00011: LearningRateScheduler setting learning rate to 0.000999780194617444.\n",
            "Epoch 11/250\n",
            "2902/2902 [==============================] - 10s 4ms/step - loss: 118.4481 - mean_absolute_error: 118.4481 - val_loss: 116.8813 - val_mean_absolute_error: 116.8813 - lr: 9.9978e-04\n",
            "\n",
            "Epoch 00012: LearningRateScheduler setting learning rate to 0.0009997361505638955.\n",
            "Epoch 12/250\n",
            "2902/2902 [==============================] - 10s 4ms/step - loss: 114.4552 - mean_absolute_error: 114.4552 - val_loss: 106.7757 - val_mean_absolute_error: 106.7757 - lr: 9.9974e-04\n",
            "\n",
            "Epoch 00013: LearningRateScheduler setting learning rate to 0.0009996881489317208.\n",
            "Epoch 13/250\n",
            "2902/2902 [==============================] - 10s 4ms/step - loss: 112.8449 - mean_absolute_error: 112.8449 - val_loss: 125.3042 - val_mean_absolute_error: 125.3042 - lr: 9.9969e-04\n",
            "\n",
            "Epoch 00014: LearningRateScheduler setting learning rate to 0.000999636189768409.\n",
            "Epoch 14/250\n",
            "2902/2902 [==============================] - 10s 4ms/step - loss: 108.8749 - mean_absolute_error: 108.8749 - val_loss: 94.0444 - val_mean_absolute_error: 94.0444 - lr: 9.9964e-04\n",
            "\n",
            "Epoch 00015: LearningRateScheduler setting learning rate to 0.0009995801567126443.\n",
            "Epoch 15/250\n",
            "2902/2902 [==============================] - 10s 4ms/step - loss: 106.2932 - mean_absolute_error: 106.2932 - val_loss: 107.1775 - val_mean_absolute_error: 107.1775 - lr: 9.9958e-04\n",
            "\n",
            "Epoch 00016: LearningRateScheduler setting learning rate to 0.0009995201662216483.\n",
            "Epoch 16/250\n",
            "2902/2902 [==============================] - 10s 4ms/step - loss: 101.4535 - mean_absolute_error: 101.4535 - val_loss: 92.5202 - val_mean_absolute_error: 92.5202 - lr: 9.9952e-04\n",
            "\n",
            "Epoch 00017: LearningRateScheduler setting learning rate to 0.0009994562183429066.\n",
            "Epoch 17/250\n",
            "2902/2902 [==============================] - 10s 4ms/step - loss: 98.4184 - mean_absolute_error: 98.4184 - val_loss: 103.9894 - val_mean_absolute_error: 103.9894 - lr: 9.9946e-04\n",
            "\n",
            "Epoch 00018: LearningRateScheduler setting learning rate to 0.0009993883131239052.\n",
            "Epoch 18/250\n",
            "2902/2902 [==============================] - 10s 4ms/step - loss: 98.3805 - mean_absolute_error: 98.3805 - val_loss: 100.9705 - val_mean_absolute_error: 100.9705 - lr: 9.9939e-04\n",
            "\n",
            "Epoch 00019: LearningRateScheduler setting learning rate to 0.000999316334205188.\n",
            "Epoch 19/250\n",
            "2902/2902 [==============================] - 11s 4ms/step - loss: 94.7698 - mean_absolute_error: 94.7698 - val_loss: 87.8979 - val_mean_absolute_error: 87.8979 - lr: 9.9932e-04\n",
            "\n",
            "Epoch 00020: LearningRateScheduler setting learning rate to 0.0009992403980421105.\n",
            "Epoch 20/250\n",
            "2902/2902 [==============================] - 10s 4ms/step - loss: 94.2348 - mean_absolute_error: 94.2348 - val_loss: 85.5743 - val_mean_absolute_error: 85.5743 - lr: 9.9924e-04\n",
            "\n",
            "Epoch 00021: LearningRateScheduler setting learning rate to 0.000999160504682156.\n",
            "Epoch 21/250\n",
            "2902/2902 [==============================] - 10s 4ms/step - loss: 91.7588 - mean_absolute_error: 91.7588 - val_loss: 124.8309 - val_mean_absolute_error: 124.8309 - lr: 9.9916e-04\n",
            "\n",
            "Epoch 00022: LearningRateScheduler setting learning rate to 0.000999076537767263.\n",
            "Epoch 22/250\n",
            "2902/2902 [==============================] - 10s 4ms/step - loss: 91.3882 - mean_absolute_error: 91.3882 - val_loss: 95.5110 - val_mean_absolute_error: 95.5110 - lr: 9.9908e-04\n",
            "\n",
            "Epoch 00023: LearningRateScheduler setting learning rate to 0.000998988613751388.\n",
            "Epoch 23/250\n",
            "2902/2902 [==============================] - 10s 4ms/step - loss: 92.0295 - mean_absolute_error: 92.0295 - val_loss: 79.8614 - val_mean_absolute_error: 79.8614 - lr: 9.9899e-04\n",
            "\n",
            "Epoch 00024: LearningRateScheduler setting learning rate to 0.0009988967326820123.\n",
            "Epoch 24/250\n",
            "2902/2902 [==============================] - 10s 4ms/step - loss: 85.1846 - mean_absolute_error: 85.1846 - val_loss: 88.8870 - val_mean_absolute_error: 88.8870 - lr: 9.9890e-04\n",
            "\n",
            "Epoch 00025: LearningRateScheduler setting learning rate to 0.0009988008946066151.\n",
            "Epoch 25/250\n",
            "2902/2902 [==============================] - 10s 4ms/step - loss: 85.5563 - mean_absolute_error: 85.5563 - val_loss: 77.2398 - val_mean_absolute_error: 77.2398 - lr: 9.9880e-04\n",
            "\n",
            "Epoch 00026: LearningRateScheduler setting learning rate to 0.0009987009831689952.\n",
            "Epoch 26/250\n",
            "2902/2902 [==============================] - 11s 4ms/step - loss: 83.5035 - mean_absolute_error: 83.5035 - val_loss: 72.7041 - val_mean_absolute_error: 72.7041 - lr: 9.9870e-04\n",
            "\n",
            "Epoch 00027: LearningRateScheduler setting learning rate to 0.000998597114821243.\n",
            "Epoch 27/250\n",
            "2902/2902 [==============================] - 11s 4ms/step - loss: 80.7146 - mean_absolute_error: 80.7146 - val_loss: 76.9886 - val_mean_absolute_error: 76.9886 - lr: 9.9860e-04\n",
            "\n",
            "Epoch 00028: LearningRateScheduler setting learning rate to 0.000998489289610837.\n",
            "Epoch 28/250\n",
            "2902/2902 [==============================] - 11s 4ms/step - loss: 78.3203 - mean_absolute_error: 78.3203 - val_loss: 111.0544 - val_mean_absolute_error: 111.0544 - lr: 9.9849e-04\n",
            "\n",
            "Epoch 00029: LearningRateScheduler setting learning rate to 0.0009983775075852537.\n",
            "Epoch 29/250\n",
            "2902/2902 [==============================] - 11s 4ms/step - loss: 80.3204 - mean_absolute_error: 80.3204 - val_loss: 74.0215 - val_mean_absolute_error: 74.0215 - lr: 9.9838e-04\n",
            "\n",
            "Epoch 00030: LearningRateScheduler setting learning rate to 0.0009982616523901502.\n",
            "Epoch 30/250\n",
            "2902/2902 [==============================] - 10s 4ms/step - loss: 77.2809 - mean_absolute_error: 77.2809 - val_loss: 79.0088 - val_mean_absolute_error: 79.0088 - lr: 9.9826e-04\n",
            "\n",
            "Epoch 00031: LearningRateScheduler setting learning rate to 0.0009981418404757527.\n",
            "Epoch 31/250\n",
            "2902/2902 [==============================] - 10s 4ms/step - loss: 78.5829 - mean_absolute_error: 78.5829 - val_loss: 71.3850 - val_mean_absolute_error: 71.3850 - lr: 9.9814e-04\n",
            "\n",
            "Epoch 00032: LearningRateScheduler setting learning rate to 0.0009980180718895354.\n",
            "Epoch 32/250\n",
            "2902/2902 [==============================] - 10s 4ms/step - loss: 74.2176 - mean_absolute_error: 74.2176 - val_loss: 71.4496 - val_mean_absolute_error: 71.4496 - lr: 9.9802e-04\n",
            "\n",
            "Epoch 00033: LearningRateScheduler setting learning rate to 0.0009978903466789728.\n",
            "Epoch 33/250\n",
            "2902/2902 [==============================] - 10s 4ms/step - loss: 76.6751 - mean_absolute_error: 76.6751 - val_loss: 71.6802 - val_mean_absolute_error: 71.6802 - lr: 9.9789e-04\n",
            "\n",
            "Epoch 00034: LearningRateScheduler setting learning rate to 0.000997758664891538.\n",
            "Epoch 34/250\n",
            "2902/2902 [==============================] - 10s 4ms/step - loss: 69.1972 - mean_absolute_error: 69.1972 - val_loss: 76.0945 - val_mean_absolute_error: 76.0945 - lr: 9.9776e-04\n",
            "\n",
            "Epoch 00035: LearningRateScheduler setting learning rate to 0.0009976230265747032.\n",
            "Epoch 35/250\n",
            "2902/2902 [==============================] - 10s 4ms/step - loss: 75.3285 - mean_absolute_error: 75.3285 - val_loss: 84.0568 - val_mean_absolute_error: 84.0568 - lr: 9.9762e-04\n",
            "\n",
            "Epoch 00036: LearningRateScheduler setting learning rate to 0.0009974834317759403.\n",
            "Epoch 36/250\n",
            "2902/2902 [==============================] - 10s 4ms/step - loss: 68.4690 - mean_absolute_error: 68.4690 - val_loss: 72.4897 - val_mean_absolute_error: 72.4897 - lr: 9.9748e-04\n",
            "\n",
            "Epoch 00037: LearningRateScheduler setting learning rate to 0.00099733976414416.\n",
            "Epoch 37/250\n",
            "2902/2902 [==============================] - 11s 4ms/step - loss: 71.2946 - mean_absolute_error: 71.2946 - val_loss: 70.1549 - val_mean_absolute_error: 70.1549 - lr: 9.9734e-04\n",
            "\n",
            "Epoch 00038: LearningRateScheduler setting learning rate to 0.0009971921401263236.\n",
            "Epoch 38/250\n",
            "2902/2902 [==============================] - 11s 4ms/step - loss: 75.5817 - mean_absolute_error: 75.5817 - val_loss: 77.8749 - val_mean_absolute_error: 77.8749 - lr: 9.9719e-04\n",
            "\n",
            "Epoch 00039: LearningRateScheduler setting learning rate to 0.0009970405597699006.\n",
            "Epoch 39/250\n",
            "2902/2902 [==============================] - 10s 4ms/step - loss: 67.2241 - mean_absolute_error: 67.2241 - val_loss: 98.0380 - val_mean_absolute_error: 98.0380 - lr: 9.9704e-04\n",
            "\n",
            "Epoch 00040: LearningRateScheduler setting learning rate to 0.0009968850231223598.\n",
            "Epoch 40/250\n",
            "2902/2902 [==============================] - 10s 4ms/step - loss: 71.1800 - mean_absolute_error: 71.1800 - val_loss: 83.4321 - val_mean_absolute_error: 83.4321 - lr: 9.9689e-04\n",
            "\n",
            "Epoch 00041: LearningRateScheduler setting learning rate to 0.0009967255302311693.\n",
            "Epoch 41/250\n",
            "2902/2902 [==============================] - 10s 4ms/step - loss: 66.2458 - mean_absolute_error: 66.2458 - val_loss: 106.7165 - val_mean_absolute_error: 106.7165 - lr: 9.9673e-04\n",
            "\n",
            "Epoch 00042: LearningRateScheduler setting learning rate to 0.0009965620811437956.\n",
            "Epoch 42/250\n",
            "2902/2902 [==============================] - 10s 4ms/step - loss: 65.6210 - mean_absolute_error: 65.6210 - val_loss: 62.7094 - val_mean_absolute_error: 62.7094 - lr: 9.9656e-04\n",
            "\n",
            "Epoch 00043: LearningRateScheduler setting learning rate to 0.0009963946759077057.\n",
            "Epoch 43/250\n",
            "2902/2902 [==============================] - 10s 4ms/step - loss: 62.2590 - mean_absolute_error: 62.2590 - val_loss: 67.1556 - val_mean_absolute_error: 67.1556 - lr: 9.9639e-04\n",
            "\n",
            "Epoch 00044: LearningRateScheduler setting learning rate to 0.000996223314570365.\n",
            "Epoch 44/250\n",
            "2902/2902 [==============================] - 11s 4ms/step - loss: 65.5158 - mean_absolute_error: 65.5158 - val_loss: 69.4620 - val_mean_absolute_error: 69.4620 - lr: 9.9622e-04\n",
            "\n",
            "Epoch 00045: LearningRateScheduler setting learning rate to 0.0009960479971792384.\n",
            "Epoch 45/250\n",
            "2902/2902 [==============================] - 10s 4ms/step - loss: 64.2560 - mean_absolute_error: 64.2560 - val_loss: 92.6532 - val_mean_absolute_error: 92.6532 - lr: 9.9605e-04\n",
            "\n",
            "Epoch 00046: LearningRateScheduler setting learning rate to 0.0009958687237817897.\n",
            "Epoch 46/250\n",
            "2902/2902 [==============================] - 10s 4ms/step - loss: 64.1314 - mean_absolute_error: 64.1314 - val_loss: 66.9888 - val_mean_absolute_error: 66.9888 - lr: 9.9587e-04\n",
            "\n",
            "Epoch 00047: LearningRateScheduler setting learning rate to 0.0009956854944254828.\n",
            "Epoch 47/250\n",
            "2902/2902 [==============================] - 11s 4ms/step - loss: 63.7310 - mean_absolute_error: 63.7310 - val_loss: 65.9793 - val_mean_absolute_error: 65.9793 - lr: 9.9569e-04\n",
            "\n",
            "Epoch 00048: LearningRateScheduler setting learning rate to 0.0009954983091577797.\n",
            "Epoch 48/250\n",
            "2902/2902 [==============================] - 11s 4ms/step - loss: 63.5575 - mean_absolute_error: 63.5575 - val_loss: 78.0144 - val_mean_absolute_error: 78.0144 - lr: 9.9550e-04\n",
            "\n",
            "Epoch 00049: LearningRateScheduler setting learning rate to 0.0009953071680261427.\n",
            "Epoch 49/250\n",
            "2902/2902 [==============================] - 10s 4ms/step - loss: 60.5761 - mean_absolute_error: 60.5761 - val_loss: 65.2368 - val_mean_absolute_error: 65.2368 - lr: 9.9531e-04\n",
            "\n",
            "Epoch 00050: LearningRateScheduler setting learning rate to 0.0009951120710780326.\n",
            "Epoch 50/250\n",
            "2902/2902 [==============================] - 11s 4ms/step - loss: 62.0879 - mean_absolute_error: 62.0879 - val_loss: 84.3641 - val_mean_absolute_error: 84.3641 - lr: 9.9511e-04\n",
            "\n",
            "Epoch 00051: LearningRateScheduler setting learning rate to 0.0009949131347529532.\n",
            "Epoch 51/250\n",
            "2902/2902 [==============================] - 10s 4ms/step - loss: 62.4488 - mean_absolute_error: 62.4488 - val_loss: 61.2902 - val_mean_absolute_error: 61.2902 - lr: 9.9491e-04\n",
            "\n",
            "Epoch 00052: LearningRateScheduler setting learning rate to 0.0009947102427053896.\n",
            "Epoch 52/250\n",
            "2902/2902 [==============================] - 10s 4ms/step - loss: 60.2752 - mean_absolute_error: 60.2752 - val_loss: 67.8439 - val_mean_absolute_error: 67.8439 - lr: 9.9471e-04\n",
            "\n",
            "Epoch 00053: LearningRateScheduler setting learning rate to 0.000994503394982801.\n",
            "Epoch 53/250\n",
            "2902/2902 [==============================] - 11s 4ms/step - loss: 60.1895 - mean_absolute_error: 60.1895 - val_loss: 58.7687 - val_mean_absolute_error: 58.7687 - lr: 9.9450e-04\n",
            "\n",
            "Epoch 00054: LearningRateScheduler setting learning rate to 0.0009942925916326445.\n",
            "Epoch 54/250\n",
            "2902/2902 [==============================] - 10s 4ms/step - loss: 56.0736 - mean_absolute_error: 56.0736 - val_loss: 61.4388 - val_mean_absolute_error: 61.4388 - lr: 9.9429e-04\n",
            "\n",
            "Epoch 00055: LearningRateScheduler setting learning rate to 0.0009940778327023785.\n",
            "Epoch 55/250\n",
            "2902/2902 [==============================] - 11s 4ms/step - loss: 56.1049 - mean_absolute_error: 56.1049 - val_loss: 69.8828 - val_mean_absolute_error: 69.8828 - lr: 9.9408e-04\n",
            "\n",
            "Epoch 00056: LearningRateScheduler setting learning rate to 0.0009938592346291747.\n",
            "Epoch 56/250\n",
            "2902/2902 [==============================] - 10s 4ms/step - loss: 58.0607 - mean_absolute_error: 58.0607 - val_loss: 70.4097 - val_mean_absolute_error: 70.4097 - lr: 9.9386e-04\n",
            "\n",
            "Epoch 00057: LearningRateScheduler setting learning rate to 0.0009936366810698427.\n",
            "Epoch 57/250\n",
            "2902/2902 [==============================] - 11s 4ms/step - loss: 55.8825 - mean_absolute_error: 55.8825 - val_loss: 60.7281 - val_mean_absolute_error: 60.7281 - lr: 9.9364e-04\n",
            "\n",
            "Epoch 00058: LearningRateScheduler setting learning rate to 0.000993410172071837.\n",
            "Epoch 58/250\n",
            "2902/2902 [==============================] - 11s 4ms/step - loss: 57.4965 - mean_absolute_error: 57.4965 - val_loss: 60.1763 - val_mean_absolute_error: 60.1763 - lr: 9.9341e-04\n",
            "\n",
            "Epoch 00059: LearningRateScheduler setting learning rate to 0.0009931797076826116.\n",
            "Epoch 59/250\n",
            "2902/2902 [==============================] - 11s 4ms/step - loss: 54.7345 - mean_absolute_error: 54.7345 - val_loss: 61.0989 - val_mean_absolute_error: 61.0989 - lr: 9.9318e-04\n",
            "\n",
            "Epoch 00060: LearningRateScheduler setting learning rate to 0.000992945404337475.\n",
            "Epoch 60/250\n",
            "2902/2902 [==============================] - 10s 4ms/step - loss: 55.4876 - mean_absolute_error: 55.4876 - val_loss: 68.8064 - val_mean_absolute_error: 68.8064 - lr: 9.9295e-04\n",
            "\n",
            "Epoch 00061: LearningRateScheduler setting learning rate to 0.000992707145695094.\n",
            "Epoch 61/250\n",
            "2902/2902 [==============================] - 11s 4ms/step - loss: 55.0749 - mean_absolute_error: 55.0749 - val_loss: 61.4230 - val_mean_absolute_error: 61.4230 - lr: 9.9271e-04\n",
            "\n",
            "Epoch 00062: LearningRateScheduler setting learning rate to 0.0009924649318029213.\n",
            "Epoch 62/250\n",
            "2902/2902 [==============================] - 10s 4ms/step - loss: 53.7284 - mean_absolute_error: 53.7284 - val_loss: 56.4538 - val_mean_absolute_error: 56.4538 - lr: 9.9246e-04\n",
            "\n",
            "Epoch 00063: LearningRateScheduler setting learning rate to 0.0009922188790948655.\n",
            "Epoch 63/250\n",
            "2902/2902 [==============================] - 11s 4ms/step - loss: 53.4091 - mean_absolute_error: 53.4091 - val_loss: 58.5462 - val_mean_absolute_error: 58.5462 - lr: 9.9222e-04\n",
            "\n",
            "Epoch 00064: LearningRateScheduler setting learning rate to 0.0009919688712309888.\n",
            "Epoch 64/250\n",
            "2902/2902 [==============================] - 11s 4ms/step - loss: 53.0544 - mean_absolute_error: 53.0544 - val_loss: 85.7188 - val_mean_absolute_error: 85.7188 - lr: 9.9197e-04\n",
            "\n",
            "Epoch 00065: LearningRateScheduler setting learning rate to 0.0009917150246442675.\n",
            "Epoch 65/250\n",
            "2902/2902 [==============================] - 11s 4ms/step - loss: 59.3515 - mean_absolute_error: 59.3515 - val_loss: 62.3296 - val_mean_absolute_error: 62.3296 - lr: 9.9172e-04\n",
            "\n",
            "Epoch 00066: LearningRateScheduler setting learning rate to 0.0009914572229956932.\n",
            "Epoch 66/250\n",
            "2902/2902 [==============================] - 11s 4ms/step - loss: 53.9562 - mean_absolute_error: 53.9562 - val_loss: 67.9723 - val_mean_absolute_error: 67.9723 - lr: 9.9146e-04\n",
            "\n",
            "Epoch 00067: LearningRateScheduler setting learning rate to 0.0009911955827173098.\n",
            "Epoch 67/250\n",
            "2902/2902 [==============================] - 11s 4ms/step - loss: 50.3403 - mean_absolute_error: 50.3403 - val_loss: 59.9091 - val_mean_absolute_error: 59.9091 - lr: 9.9120e-04\n",
            "\n",
            "Epoch 00068: LearningRateScheduler setting learning rate to 0.000990929987471038.\n",
            "Epoch 68/250\n",
            "2902/2902 [==============================] - 11s 4ms/step - loss: 51.6030 - mean_absolute_error: 51.6030 - val_loss: 59.2474 - val_mean_absolute_error: 59.2474 - lr: 9.9093e-04\n",
            "\n",
            "Epoch 00069: LearningRateScheduler setting learning rate to 0.0009906605536879897.\n",
            "Epoch 69/250\n",
            "2902/2902 [==============================] - 11s 4ms/step - loss: 51.2450 - mean_absolute_error: 51.2450 - val_loss: 66.1167 - val_mean_absolute_error: 66.1167 - lr: 9.9066e-04\n",
            "\n",
            "Epoch 00070: LearningRateScheduler setting learning rate to 0.0009903871650310152.\n",
            "Epoch 70/250\n",
            "2902/2902 [==============================] - 11s 4ms/step - loss: 53.3703 - mean_absolute_error: 53.3703 - val_loss: 61.9210 - val_mean_absolute_error: 61.9210 - lr: 9.9039e-04\n",
            "\n",
            "Epoch 00071: LearningRateScheduler setting learning rate to 0.0009901099379302934.\n",
            "Epoch 71/250\n",
            "2902/2902 [==============================] - 11s 4ms/step - loss: 52.9963 - mean_absolute_error: 52.9963 - val_loss: 57.6755 - val_mean_absolute_error: 57.6755 - lr: 9.9011e-04\n",
            "\n",
            "Epoch 00072: LearningRateScheduler setting learning rate to 0.0009898288724318734.\n",
            "Epoch 72/250\n",
            "2902/2902 [==============================] - 11s 4ms/step - loss: 50.1626 - mean_absolute_error: 50.1626 - val_loss: 58.1454 - val_mean_absolute_error: 58.1454 - lr: 9.8983e-04\n",
            "\n",
            "Epoch 00073: LearningRateScheduler setting learning rate to 0.0009895438521999983.\n",
            "Epoch 73/250\n",
            "2902/2902 [==============================] - 11s 4ms/step - loss: 50.4577 - mean_absolute_error: 50.4577 - val_loss: 53.3178 - val_mean_absolute_error: 53.3178 - lr: 9.8954e-04\n",
            "\n",
            "Epoch 00074: LearningRateScheduler setting learning rate to 0.00098925499366345.\n",
            "Epoch 74/250\n",
            "2902/2902 [==============================] - 11s 4ms/step - loss: 48.7727 - mean_absolute_error: 48.7727 - val_loss: 57.6106 - val_mean_absolute_error: 57.6106 - lr: 9.8926e-04\n",
            "\n",
            "Epoch 00075: LearningRateScheduler setting learning rate to 0.000988962296868274.\n",
            "Epoch 75/250\n",
            "2902/2902 [==============================] - 11s 4ms/step - loss: 53.3683 - mean_absolute_error: 53.3683 - val_loss: 63.7025 - val_mean_absolute_error: 63.7025 - lr: 9.8896e-04\n",
            "\n",
            "Epoch 00076: LearningRateScheduler setting learning rate to 0.0009886656454801083.\n",
            "Epoch 76/250\n",
            "2902/2902 [==============================] - 11s 4ms/step - loss: 51.2845 - mean_absolute_error: 51.2845 - val_loss: 55.1080 - val_mean_absolute_error: 55.1080 - lr: 9.8867e-04\n",
            "\n",
            "Epoch 00077: LearningRateScheduler setting learning rate to 0.0009883651559263356.\n",
            "Epoch 77/250\n",
            "2902/2902 [==============================] - 11s 4ms/step - loss: 49.3409 - mean_absolute_error: 49.3409 - val_loss: 53.9377 - val_mean_absolute_error: 53.9377 - lr: 9.8837e-04\n",
            "\n",
            "Epoch 00078: LearningRateScheduler setting learning rate to 0.000988060828253.\n",
            "Epoch 78/250\n",
            "2902/2902 [==============================] - 11s 4ms/step - loss: 48.8550 - mean_absolute_error: 48.8550 - val_loss: 53.7370 - val_mean_absolute_error: 53.7370 - lr: 9.8806e-04\n",
            "\n",
            "Epoch 00079: LearningRateScheduler setting learning rate to 0.0009877526625061443.\n",
            "Epoch 79/250\n",
            "2902/2902 [==============================] - 11s 4ms/step - loss: 48.9729 - mean_absolute_error: 48.9729 - val_loss: 52.7643 - val_mean_absolute_error: 52.7643 - lr: 9.8775e-04\n",
            "\n",
            "Epoch 00080: LearningRateScheduler setting learning rate to 0.0009874406587318113.\n",
            "Epoch 80/250\n",
            "2902/2902 [==============================] - 11s 4ms/step - loss: 47.4944 - mean_absolute_error: 47.4944 - val_loss: 70.3196 - val_mean_absolute_error: 70.3196 - lr: 9.8744e-04\n",
            "\n",
            "Epoch 00081: LearningRateScheduler setting learning rate to 0.0009871248169760418.\n",
            "Epoch 81/250\n",
            "2902/2902 [==============================] - 11s 4ms/step - loss: 50.8001 - mean_absolute_error: 50.8001 - val_loss: 55.5819 - val_mean_absolute_error: 55.5819 - lr: 9.8712e-04\n",
            "\n",
            "Epoch 00082: LearningRateScheduler setting learning rate to 0.0009868051372848776.\n",
            "Epoch 82/250\n",
            "2902/2902 [==============================] - 11s 4ms/step - loss: 46.2745 - mean_absolute_error: 46.2745 - val_loss: 53.4607 - val_mean_absolute_error: 53.4607 - lr: 9.8681e-04\n",
            "\n",
            "Epoch 00083: LearningRateScheduler setting learning rate to 0.000986481619704358.\n",
            "Epoch 83/250\n",
            "2902/2902 [==============================] - 11s 4ms/step - loss: 50.3904 - mean_absolute_error: 50.3904 - val_loss: 53.6153 - val_mean_absolute_error: 53.6153 - lr: 9.8648e-04\n",
            "\n",
            "Epoch 00084: LearningRateScheduler setting learning rate to 0.0009861542642805228.\n",
            "Epoch 84/250\n",
            "2902/2902 [==============================] - 11s 4ms/step - loss: 49.3312 - mean_absolute_error: 49.3312 - val_loss: 52.9519 - val_mean_absolute_error: 52.9519 - lr: 9.8615e-04\n",
            "\n",
            "Epoch 00085: LearningRateScheduler setting learning rate to 0.0009858230710594108.\n",
            "Epoch 85/250\n",
            "2902/2902 [==============================] - 11s 4ms/step - loss: 47.0556 - mean_absolute_error: 47.0556 - val_loss: 54.7261 - val_mean_absolute_error: 54.7261 - lr: 9.8582e-04\n",
            "\n",
            "Epoch 00086: LearningRateScheduler setting learning rate to 0.0009854880400870594.\n",
            "Epoch 86/250\n",
            "2902/2902 [==============================] - 11s 4ms/step - loss: 44.4543 - mean_absolute_error: 44.4543 - val_loss: 55.2226 - val_mean_absolute_error: 55.2226 - lr: 9.8549e-04\n",
            "\n",
            "Epoch 00087: LearningRateScheduler setting learning rate to 0.0009851491714095062.\n",
            "Epoch 87/250\n",
            "2902/2902 [==============================] - 11s 4ms/step - loss: 46.7745 - mean_absolute_error: 46.7745 - val_loss: 52.5332 - val_mean_absolute_error: 52.5332 - lr: 9.8515e-04\n",
            "\n",
            "Epoch 00088: LearningRateScheduler setting learning rate to 0.0009848064650727875.\n",
            "Epoch 88/250\n",
            "2902/2902 [==============================] - 11s 4ms/step - loss: 47.5954 - mean_absolute_error: 47.5954 - val_loss: 50.7810 - val_mean_absolute_error: 50.7810 - lr: 9.8481e-04\n",
            "\n",
            "Epoch 00089: LearningRateScheduler setting learning rate to 0.0009844599211229392.\n",
            "Epoch 89/250\n",
            "2902/2902 [==============================] - 11s 4ms/step - loss: 44.5229 - mean_absolute_error: 44.5229 - val_loss: 52.2987 - val_mean_absolute_error: 52.2987 - lr: 9.8446e-04\n",
            "\n",
            "Epoch 00090: LearningRateScheduler setting learning rate to 0.000984109539605996.\n",
            "Epoch 90/250\n",
            "2902/2902 [==============================] - 11s 4ms/step - loss: 44.3443 - mean_absolute_error: 44.3443 - val_loss: 54.5078 - val_mean_absolute_error: 54.5078 - lr: 9.8411e-04\n",
            "\n",
            "Epoch 00091: LearningRateScheduler setting learning rate to 0.0009837554369414195.\n",
            "Epoch 91/250\n",
            "2902/2902 [==============================] - 11s 4ms/step - loss: 44.0905 - mean_absolute_error: 44.0905 - val_loss: 64.7820 - val_mean_absolute_error: 64.7820 - lr: 9.8376e-04\n",
            "\n",
            "Epoch 00092: LearningRateScheduler setting learning rate to 0.0009833974968008854.\n",
            "Epoch 92/250\n",
            "2902/2902 [==============================] - 11s 4ms/step - loss: 44.8906 - mean_absolute_error: 44.8906 - val_loss: 55.5864 - val_mean_absolute_error: 55.5864 - lr: 9.8340e-04\n",
            "\n",
            "Epoch 00093: LearningRateScheduler setting learning rate to 0.0009830357192304262.\n",
            "Epoch 93/250\n",
            "2902/2902 [==============================] - 11s 4ms/step - loss: 44.2770 - mean_absolute_error: 44.2770 - val_loss: 69.4087 - val_mean_absolute_error: 69.4087 - lr: 9.8304e-04\n",
            "\n",
            "Epoch 00094: LearningRateScheduler setting learning rate to 0.0009826702206481056.\n",
            "Epoch 94/250\n",
            "2902/2902 [==============================] - 11s 4ms/step - loss: 45.4690 - mean_absolute_error: 45.4690 - val_loss: 51.8978 - val_mean_absolute_error: 51.8978 - lr: 9.8267e-04\n",
            "\n",
            "Epoch 00095: LearningRateScheduler setting learning rate to 0.0009823008847269928.\n",
            "Epoch 95/250\n",
            "2902/2902 [==============================] - 11s 4ms/step - loss: 45.4321 - mean_absolute_error: 45.4321 - val_loss: 49.9834 - val_mean_absolute_error: 49.9834 - lr: 9.8230e-04\n",
            "\n",
            "Epoch 00096: LearningRateScheduler setting learning rate to 0.0009819277115131182.\n",
            "Epoch 96/250\n",
            "2902/2902 [==============================] - 11s 4ms/step - loss: 45.6520 - mean_absolute_error: 45.6520 - val_loss: 52.3962 - val_mean_absolute_error: 52.3962 - lr: 9.8193e-04\n",
            "\n",
            "Epoch 00097: LearningRateScheduler setting learning rate to 0.0009815508174231475.\n",
            "Epoch 97/250\n",
            "2902/2902 [==============================] - 11s 4ms/step - loss: 43.9055 - mean_absolute_error: 43.9055 - val_loss: 51.4575 - val_mean_absolute_error: 51.4575 - lr: 9.8155e-04\n",
            "\n",
            "Epoch 00098: LearningRateScheduler setting learning rate to 0.0009811700861315433.\n",
            "Epoch 98/250\n",
            "2902/2902 [==============================] - 11s 4ms/step - loss: 42.4966 - mean_absolute_error: 42.4966 - val_loss: 53.5030 - val_mean_absolute_error: 53.5030 - lr: 9.8117e-04\n",
            "\n",
            "Epoch 00099: LearningRateScheduler setting learning rate to 0.0009807856340540392.\n",
            "Epoch 99/250\n",
            "2902/2902 [==============================] - 11s 4ms/step - loss: 44.5416 - mean_absolute_error: 44.5416 - val_loss: 50.1078 - val_mean_absolute_error: 50.1078 - lr: 9.8079e-04\n",
            "\n",
            "Epoch 00100: LearningRateScheduler setting learning rate to 0.0009803973448660268.\n",
            "Epoch 100/250\n",
            "2902/2902 [==============================] - 11s 4ms/step - loss: 41.7746 - mean_absolute_error: 41.7746 - val_loss: 57.9122 - val_mean_absolute_error: 57.9122 - lr: 9.8040e-04\n",
            "\n",
            "Epoch 00101: LearningRateScheduler setting learning rate to 0.000980005334982308.\n",
            "Epoch 101/250\n",
            "2902/2902 [==============================] - 11s 4ms/step - loss: 41.7971 - mean_absolute_error: 41.7971 - val_loss: 60.0676 - val_mean_absolute_error: 60.0676 - lr: 9.8001e-04\n",
            "\n",
            "Epoch 00102: LearningRateScheduler setting learning rate to 0.0009796096044475129.\n",
            "Epoch 102/250\n",
            "2902/2902 [==============================] - 11s 4ms/step - loss: 42.8756 - mean_absolute_error: 42.8756 - val_loss: 54.0792 - val_mean_absolute_error: 54.0792 - lr: 9.7961e-04\n",
            "\n",
            "Epoch 00103: LearningRateScheduler setting learning rate to 0.0009792100369384272.\n",
            "Epoch 103/250\n",
            "2902/2902 [==============================] - 11s 4ms/step - loss: 42.9888 - mean_absolute_error: 42.9888 - val_loss: 46.9930 - val_mean_absolute_error: 46.9930 - lr: 9.7921e-04\n",
            "\n",
            "Epoch 00104: LearningRateScheduler setting learning rate to 0.0009788067488684543.\n",
            "Epoch 104/250\n",
            "2902/2902 [==============================] - 11s 4ms/step - loss: 41.1062 - mean_absolute_error: 41.1062 - val_loss: 51.1965 - val_mean_absolute_error: 51.1965 - lr: 9.7881e-04\n",
            "\n",
            "Epoch 00105: LearningRateScheduler setting learning rate to 0.0009783997402822223.\n",
            "Epoch 105/250\n",
            "2902/2902 [==============================] - 11s 4ms/step - loss: 41.5261 - mean_absolute_error: 41.5261 - val_loss: 51.6058 - val_mean_absolute_error: 51.6058 - lr: 9.7840e-04\n",
            "\n",
            "Epoch 00106: LearningRateScheduler setting learning rate to 0.0009779890112243583.\n",
            "Epoch 106/250\n",
            "2902/2902 [==============================] - 11s 4ms/step - loss: 39.8253 - mean_absolute_error: 39.8253 - val_loss: 48.2583 - val_mean_absolute_error: 48.2583 - lr: 9.7799e-04\n",
            "\n",
            "Epoch 00107: LearningRateScheduler setting learning rate to 0.0009775745617394897.\n",
            "Epoch 107/250\n",
            "2902/2902 [==============================] - 11s 4ms/step - loss: 39.5208 - mean_absolute_error: 39.5208 - val_loss: 49.4623 - val_mean_absolute_error: 49.4623 - lr: 9.7757e-04\n",
            "\n",
            "Epoch 00108: LearningRateScheduler setting learning rate to 0.000977156391872242.\n",
            "Epoch 108/250\n",
            "2902/2902 [==============================] - 11s 4ms/step - loss: 41.2618 - mean_absolute_error: 41.2618 - val_loss: 55.5995 - val_mean_absolute_error: 55.5995 - lr: 9.7716e-04\n",
            "\n",
            "Epoch 00109: LearningRateScheduler setting learning rate to 0.0009767343853021887.\n",
            "Epoch 109/250\n",
            "2902/2902 [==============================] - 11s 4ms/step - loss: 42.0721 - mean_absolute_error: 42.0721 - val_loss: 50.7801 - val_mean_absolute_error: 50.7801 - lr: 9.7673e-04\n",
            "\n",
            "Epoch 00110: LearningRateScheduler setting learning rate to 0.0009763086584399366.\n",
            "Epoch 110/250\n",
            "2902/2902 [==============================] - 11s 4ms/step - loss: 37.8591 - mean_absolute_error: 37.8591 - val_loss: 58.2620 - val_mean_absolute_error: 58.2619 - lr: 9.7631e-04\n",
            "\n",
            "Epoch 00111: LearningRateScheduler setting learning rate to 0.0009758792695121711.\n",
            "Epoch 111/250\n",
            "2902/2902 [==============================] - 11s 4ms/step - loss: 41.3844 - mean_absolute_error: 41.3844 - val_loss: 53.5409 - val_mean_absolute_error: 53.5409 - lr: 9.7588e-04\n",
            "\n",
            "Epoch 00112: LearningRateScheduler setting learning rate to 0.0009754461603809885.\n",
            "Epoch 112/250\n",
            "2902/2902 [==============================] - 11s 4ms/step - loss: 38.5387 - mean_absolute_error: 38.5387 - val_loss: 52.7889 - val_mean_absolute_error: 52.7889 - lr: 9.7545e-04\n",
            "\n",
            "Epoch 00113: LearningRateScheduler setting learning rate to 0.0009750093310910118.\n",
            "Epoch 113/250\n",
            "2902/2902 [==============================] - 11s 4ms/step - loss: 39.6389 - mean_absolute_error: 39.6389 - val_loss: 50.2503 - val_mean_absolute_error: 50.2503 - lr: 9.7501e-04\n",
            "\n",
            "Epoch 00114: LearningRateScheduler setting learning rate to 0.0009745688398682256.\n",
            "Epoch 114/250\n",
            "2902/2902 [==============================] - 11s 4ms/step - loss: 41.8216 - mean_absolute_error: 41.8216 - val_loss: 58.1675 - val_mean_absolute_error: 58.1675 - lr: 9.7457e-04\n",
            "\n",
            "Epoch 00115: LearningRateScheduler setting learning rate to 0.0009741246285754224.\n",
            "Epoch 115/250\n",
            "2902/2902 [==============================] - 11s 4ms/step - loss: 40.4739 - mean_absolute_error: 40.4739 - val_loss: 49.5801 - val_mean_absolute_error: 49.5801 - lr: 9.7412e-04\n",
            "\n",
            "Epoch 00116: LearningRateScheduler setting learning rate to 0.0009736767554381207.\n",
            "Epoch 116/250\n",
            "2902/2902 [==============================] - 11s 4ms/step - loss: 39.3164 - mean_absolute_error: 39.3164 - val_loss: 53.0667 - val_mean_absolute_error: 53.0667 - lr: 9.7368e-04\n",
            "\n",
            "Epoch 00117: LearningRateScheduler setting learning rate to 0.0009732251623195767.\n",
            "Epoch 117/250\n",
            "2902/2902 [==============================] - 11s 4ms/step - loss: 40.0840 - mean_absolute_error: 40.0840 - val_loss: 49.8382 - val_mean_absolute_error: 49.8382 - lr: 9.7323e-04\n",
            "\n",
            "Epoch 00118: LearningRateScheduler setting learning rate to 0.0009727699074448422.\n",
            "Epoch 118/250\n",
            "2902/2902 [==============================] - 11s 4ms/step - loss: 37.9799 - mean_absolute_error: 37.9799 - val_loss: 48.4129 - val_mean_absolute_error: 48.4129 - lr: 9.7277e-04\n",
            "\n",
            "Epoch 00119: LearningRateScheduler setting learning rate to 0.0009723109908578372.\n",
            "Epoch 119/250\n",
            "2902/2902 [==============================] - 11s 4ms/step - loss: 38.5301 - mean_absolute_error: 38.5301 - val_loss: 49.2829 - val_mean_absolute_error: 49.2829 - lr: 9.7231e-04\n",
            "\n",
            "Epoch 00120: LearningRateScheduler setting learning rate to 0.0009718484126024817.\n",
            "Epoch 120/250\n",
            "2902/2902 [==============================] - 11s 4ms/step - loss: 40.8245 - mean_absolute_error: 40.8245 - val_loss: 51.9790 - val_mean_absolute_error: 51.9790 - lr: 9.7185e-04\n",
            "\n",
            "Epoch 00121: LearningRateScheduler setting learning rate to 0.0009713821727226941.\n",
            "Epoch 121/250\n",
            "2902/2902 [==============================] - 11s 4ms/step - loss: 38.7823 - mean_absolute_error: 38.7823 - val_loss: 48.1880 - val_mean_absolute_error: 48.1880 - lr: 9.7138e-04\n",
            "\n",
            "Epoch 00122: LearningRateScheduler setting learning rate to 0.0009709122712623932.\n",
            "Epoch 122/250\n",
            "2902/2902 [==============================] - 11s 4ms/step - loss: 36.6291 - mean_absolute_error: 36.6291 - val_loss: 44.3621 - val_mean_absolute_error: 44.3621 - lr: 9.7091e-04\n",
            "\n",
            "Epoch 00123: LearningRateScheduler setting learning rate to 0.0009704387082654961.\n",
            "Epoch 123/250\n",
            "2902/2902 [==============================] - 11s 4ms/step - loss: 38.2054 - mean_absolute_error: 38.2054 - val_loss: 67.4024 - val_mean_absolute_error: 67.4024 - lr: 9.7044e-04\n",
            "\n",
            "Epoch 00124: LearningRateScheduler setting learning rate to 0.00096996148377592.\n",
            "Epoch 124/250\n",
            "2902/2902 [==============================] - 11s 4ms/step - loss: 36.9228 - mean_absolute_error: 36.9228 - val_loss: 48.6489 - val_mean_absolute_error: 48.6489 - lr: 9.6996e-04\n",
            "\n",
            "Epoch 00125: LearningRateScheduler setting learning rate to 0.0009694805978375808.\n",
            "Epoch 125/250\n",
            "2902/2902 [==============================] - 11s 4ms/step - loss: 39.5424 - mean_absolute_error: 39.5424 - val_loss: 46.3659 - val_mean_absolute_error: 46.3659 - lr: 9.6948e-04\n",
            "\n",
            "Epoch 00126: LearningRateScheduler setting learning rate to 0.0009689961086729657.\n",
            "Epoch 126/250\n",
            "2902/2902 [==============================] - 11s 4ms/step - loss: 36.4532 - mean_absolute_error: 36.4532 - val_loss: 46.2871 - val_mean_absolute_error: 46.2871 - lr: 9.6900e-04\n",
            "\n",
            "Epoch 00127: LearningRateScheduler setting learning rate to 0.0009685079581469523.\n",
            "Epoch 127/250\n",
            "2902/2902 [==============================] - 11s 4ms/step - loss: 36.7095 - mean_absolute_error: 36.7095 - val_loss: 56.5571 - val_mean_absolute_error: 56.5571 - lr: 9.6851e-04\n",
            "\n",
            "Epoch 00128: LearningRateScheduler setting learning rate to 0.0009680162044815615.\n",
            "Epoch 128/250\n",
            "2902/2902 [==============================] - 11s 4ms/step - loss: 37.2406 - mean_absolute_error: 37.2406 - val_loss: 58.2171 - val_mean_absolute_error: 58.2171 - lr: 9.6802e-04\n",
            "\n",
            "Epoch 00129: LearningRateScheduler setting learning rate to 0.0009675208477200084.\n",
            "Epoch 129/250\n",
            "2902/2902 [==============================] - 11s 4ms/step - loss: 37.5643 - mean_absolute_error: 37.5643 - val_loss: 47.3558 - val_mean_absolute_error: 47.3558 - lr: 9.6752e-04\n",
            "\n",
            "Epoch 00130: LearningRateScheduler setting learning rate to 0.0009670218879055082.\n",
            "Epoch 130/250\n",
            "2902/2902 [==============================] - 11s 4ms/step - loss: 36.5023 - mean_absolute_error: 36.5023 - val_loss: 61.1238 - val_mean_absolute_error: 61.1238 - lr: 9.6702e-04\n",
            "\n",
            "Epoch 00131: LearningRateScheduler setting learning rate to 0.0009665193250812748.\n",
            "Epoch 131/250\n",
            "2902/2902 [==============================] - 11s 4ms/step - loss: 38.3991 - mean_absolute_error: 38.3991 - val_loss: 44.2888 - val_mean_absolute_error: 44.2888 - lr: 9.6652e-04\n",
            "\n",
            "Epoch 00132: LearningRateScheduler setting learning rate to 0.0009660131592905221.\n",
            "Epoch 132/250\n",
            "2902/2902 [==============================] - 11s 4ms/step - loss: 34.4665 - mean_absolute_error: 34.4665 - val_loss: 46.4613 - val_mean_absolute_error: 46.4613 - lr: 9.6601e-04\n",
            "\n",
            "Epoch 00133: LearningRateScheduler setting learning rate to 0.0009655033905764624.\n",
            "Epoch 133/250\n",
            "2902/2902 [==============================] - 11s 4ms/step - loss: 35.5182 - mean_absolute_error: 35.5182 - val_loss: 46.5794 - val_mean_absolute_error: 46.5794 - lr: 9.6550e-04\n",
            "\n",
            "Epoch 00134: LearningRateScheduler setting learning rate to 0.0009649900189823081.\n",
            "Epoch 134/250\n",
            "2902/2902 [==============================] - 11s 4ms/step - loss: 36.7439 - mean_absolute_error: 36.7439 - val_loss: 49.0713 - val_mean_absolute_error: 49.0713 - lr: 9.6499e-04\n",
            "\n",
            "Epoch 00135: LearningRateScheduler setting learning rate to 0.0009644730445512703.\n",
            "Epoch 135/250\n",
            "2902/2902 [==============================] - 11s 4ms/step - loss: 35.8160 - mean_absolute_error: 35.8160 - val_loss: 52.2529 - val_mean_absolute_error: 52.2529 - lr: 9.6447e-04\n",
            "\n",
            "Epoch 00136: LearningRateScheduler setting learning rate to 0.0009639525255028059.\n",
            "Epoch 136/250\n",
            "2902/2902 [==============================] - 11s 4ms/step - loss: 34.2160 - mean_absolute_error: 34.2160 - val_loss: 51.0707 - val_mean_absolute_error: 51.0707 - lr: 9.6395e-04\n",
            "\n",
            "Epoch 00137: LearningRateScheduler setting learning rate to 0.0009634284037034135.\n",
            "Epoch 137/250\n",
            "2902/2902 [==============================] - 11s 4ms/step - loss: 33.9996 - mean_absolute_error: 33.9996 - val_loss: 51.0885 - val_mean_absolute_error: 51.0885 - lr: 9.6343e-04\n",
            "\n",
            "Epoch 00138: LearningRateScheduler setting learning rate to 0.0009629007373720835.\n",
            "Epoch 138/250\n",
            "2902/2902 [==============================] - 11s 4ms/step - loss: 38.0076 - mean_absolute_error: 38.0076 - val_loss: 50.8190 - val_mean_absolute_error: 50.8190 - lr: 9.6290e-04\n",
            "\n",
            "Epoch 00139: LearningRateScheduler setting learning rate to 0.0009623695265513263.\n",
            "Epoch 139/250\n",
            "2902/2902 [==============================] - 11s 4ms/step - loss: 34.3240 - mean_absolute_error: 34.3240 - val_loss: 46.8200 - val_mean_absolute_error: 46.8200 - lr: 9.6237e-04\n",
            "\n",
            "Epoch 00140: LearningRateScheduler setting learning rate to 0.0009618347712836528.\n",
            "Epoch 140/250\n",
            "2902/2902 [==============================] - 11s 4ms/step - loss: 35.2309 - mean_absolute_error: 35.2309 - val_loss: 50.2410 - val_mean_absolute_error: 50.2410 - lr: 9.6183e-04\n",
            "\n",
            "Epoch 00141: LearningRateScheduler setting learning rate to 0.0009612964716115721.\n",
            "Epoch 141/250\n",
            "2902/2902 [==============================] - 11s 4ms/step - loss: 34.7383 - mean_absolute_error: 34.7383 - val_loss: 45.9000 - val_mean_absolute_error: 45.9000 - lr: 9.6130e-04\n",
            "\n",
            "Epoch 00142: LearningRateScheduler setting learning rate to 0.0009607546275775929.\n",
            "Epoch 142/250\n",
            "2902/2902 [==============================] - 11s 4ms/step - loss: 34.8043 - mean_absolute_error: 34.8043 - val_loss: 49.8982 - val_mean_absolute_error: 49.8982 - lr: 9.6075e-04\n",
            "\n",
            "Epoch 00143: LearningRateScheduler setting learning rate to 0.000960209239224224.\n",
            "Epoch 143/250\n",
            "2902/2902 [==============================] - 11s 4ms/step - loss: 37.2576 - mean_absolute_error: 37.2576 - val_loss: 44.9952 - val_mean_absolute_error: 44.9952 - lr: 9.6021e-04\n",
            "\n",
            "Epoch 00144: LearningRateScheduler setting learning rate to 0.0009596603065939723.\n",
            "Epoch 144/250\n",
            "2902/2902 [==============================] - 11s 4ms/step - loss: 35.9590 - mean_absolute_error: 35.9590 - val_loss: 46.5266 - val_mean_absolute_error: 46.5266 - lr: 9.5966e-04\n",
            "\n",
            "Epoch 00145: LearningRateScheduler setting learning rate to 0.0009591078879034977.\n",
            "Epoch 145/250\n",
            "2902/2902 [==============================] - 11s 4ms/step - loss: 36.8903 - mean_absolute_error: 36.8903 - val_loss: 45.8257 - val_mean_absolute_error: 45.8257 - lr: 9.5911e-04\n",
            "\n",
            "Epoch 00146: LearningRateScheduler setting learning rate to 0.0009585519250206883.\n",
            "Epoch 146/250\n",
            "2902/2902 [==============================] - 11s 4ms/step - loss: 32.2497 - mean_absolute_error: 32.2497 - val_loss: 50.0651 - val_mean_absolute_error: 50.0651 - lr: 9.5855e-04\n",
            "\n",
            "Epoch 00147: LearningRateScheduler setting learning rate to 0.0009579924761617375.\n",
            "Epoch 147/250\n",
            "2902/2902 [==============================] - 11s 4ms/step - loss: 33.9971 - mean_absolute_error: 33.9971 - val_loss: 47.3209 - val_mean_absolute_error: 47.3209 - lr: 9.5799e-04\n",
            "\n",
            "Epoch 00148: LearningRateScheduler setting learning rate to 0.0009574294831949969.\n",
            "Epoch 148/250\n",
            "2902/2902 [==============================] - 11s 4ms/step - loss: 35.5490 - mean_absolute_error: 35.5490 - val_loss: 46.2013 - val_mean_absolute_error: 46.2013 - lr: 9.5743e-04\n",
            "\n",
            "Epoch 00149: LearningRateScheduler setting learning rate to 0.0009568630043361936.\n",
            "Epoch 149/250\n",
            "2902/2902 [==============================] - 11s 4ms/step - loss: 34.0182 - mean_absolute_error: 34.0182 - val_loss: 46.1137 - val_mean_absolute_error: 46.1137 - lr: 9.5686e-04\n",
            "\n",
            "Epoch 00150: LearningRateScheduler setting learning rate to 0.0009562930396271328.\n",
            "Epoch 150/250\n",
            "2902/2902 [==============================] - 11s 4ms/step - loss: 34.0332 - mean_absolute_error: 34.0332 - val_loss: 48.7456 - val_mean_absolute_error: 48.7456 - lr: 9.5629e-04\n",
            "\n",
            "Epoch 00151: LearningRateScheduler setting learning rate to 0.0009557195891096203.\n",
            "Epoch 151/250\n",
            "2902/2902 [==============================] - 11s 4ms/step - loss: 34.4628 - mean_absolute_error: 34.4628 - val_loss: 48.2504 - val_mean_absolute_error: 48.2504 - lr: 9.5572e-04\n",
            "\n",
            "Epoch 00152: LearningRateScheduler setting learning rate to 0.0009551427109979846.\n",
            "Epoch 152/250\n",
            "2902/2902 [==============================] - 11s 4ms/step - loss: 33.6428 - mean_absolute_error: 33.6428 - val_loss: 45.7323 - val_mean_absolute_error: 45.7323 - lr: 9.5514e-04\n",
            "\n",
            "Epoch 00153: LearningRateScheduler setting learning rate to 0.0009545623471610402.\n",
            "Epoch 153/250\n",
            "2902/2902 [==============================] - 11s 4ms/step - loss: 35.9451 - mean_absolute_error: 35.9451 - val_loss: 54.8480 - val_mean_absolute_error: 54.8480 - lr: 9.5456e-04\n",
            "\n",
            "Epoch 00154: LearningRateScheduler setting learning rate to 0.0009539784976405897.\n",
            "Epoch 154/250\n",
            "2902/2902 [==============================] - 11s 4ms/step - loss: 35.4786 - mean_absolute_error: 35.4786 - val_loss: 46.1989 - val_mean_absolute_error: 46.1989 - lr: 9.5398e-04\n",
            "\n",
            "Epoch 00155: LearningRateScheduler setting learning rate to 0.0009533912206502633.\n",
            "Epoch 155/250\n",
            "2902/2902 [==============================] - 11s 4ms/step - loss: 33.8269 - mean_absolute_error: 33.8269 - val_loss: 52.3992 - val_mean_absolute_error: 52.3992 - lr: 9.5339e-04\n",
            "\n",
            "Epoch 00156: LearningRateScheduler setting learning rate to 0.0009528004580595699.\n",
            "Epoch 156/250\n",
            "2902/2902 [==============================] - 11s 4ms/step - loss: 33.7470 - mean_absolute_error: 33.7470 - val_loss: 44.8809 - val_mean_absolute_error: 44.8809 - lr: 9.5280e-04\n",
            "\n",
            "Epoch 00157: LearningRateScheduler setting learning rate to 0.0009522062680816732.\n",
            "Epoch 157/250\n",
            "2902/2902 [==============================] - 11s 4ms/step - loss: 32.9408 - mean_absolute_error: 32.9408 - val_loss: 46.5717 - val_mean_absolute_error: 46.5717 - lr: 9.5221e-04\n",
            "\n",
            "Epoch 00158: LearningRateScheduler setting learning rate to 0.0009516086507576756.\n",
            "Epoch 158/250\n",
            "2902/2902 [==============================] - 11s 4ms/step - loss: 33.8647 - mean_absolute_error: 33.8647 - val_loss: 86.3491 - val_mean_absolute_error: 86.3491 - lr: 9.5161e-04\n",
            "\n",
            "Epoch 00159: LearningRateScheduler setting learning rate to 0.0009510076061286796.\n",
            "Epoch 159/250\n",
            "2902/2902 [==============================] - 11s 4ms/step - loss: 32.8885 - mean_absolute_error: 32.8885 - val_loss: 47.8962 - val_mean_absolute_error: 47.8962 - lr: 9.5101e-04\n",
            "\n",
            "Epoch 00160: LearningRateScheduler setting learning rate to 0.0009504031342357864.\n",
            "Epoch 160/250\n",
            "2902/2902 [==============================] - 11s 4ms/step - loss: 36.3027 - mean_absolute_error: 36.3027 - val_loss: 45.4019 - val_mean_absolute_error: 45.4019 - lr: 9.5040e-04\n",
            "\n",
            "Epoch 00161: LearningRateScheduler setting learning rate to 0.000949795293290529.\n",
            "Epoch 161/250\n",
            "2902/2902 [==============================] - 11s 4ms/step - loss: 31.3228 - mean_absolute_error: 31.3228 - val_loss: 48.3547 - val_mean_absolute_error: 48.3547 - lr: 9.4980e-04\n",
            "\n",
            "Epoch 00162: LearningRateScheduler setting learning rate to 0.0009491840251631105.\n",
            "Epoch 162/250\n",
            "2902/2902 [==============================] - 11s 4ms/step - loss: 32.8616 - mean_absolute_error: 32.8616 - val_loss: 47.6750 - val_mean_absolute_error: 47.6750 - lr: 9.4918e-04\n",
            "\n",
            "Epoch 00163: LearningRateScheduler setting learning rate to 0.0009485693298946307.\n",
            "Epoch 163/250\n",
            "2902/2902 [==============================] - 11s 4ms/step - loss: 31.7351 - mean_absolute_error: 31.7351 - val_loss: 43.6395 - val_mean_absolute_error: 43.6395 - lr: 9.4857e-04\n",
            "\n",
            "Epoch 00164: LearningRateScheduler setting learning rate to 0.0009479512656959223.\n",
            "Epoch 164/250\n",
            "2902/2902 [==============================] - 11s 4ms/step - loss: 32.1431 - mean_absolute_error: 32.1431 - val_loss: 41.9075 - val_mean_absolute_error: 41.9075 - lr: 9.4795e-04\n",
            "\n",
            "Epoch 00165: LearningRateScheduler setting learning rate to 0.0009473298326073866.\n",
            "Epoch 165/250\n",
            "2902/2902 [==============================] - 11s 4ms/step - loss: 32.5282 - mean_absolute_error: 32.5282 - val_loss: 43.8192 - val_mean_absolute_error: 43.8192 - lr: 9.4733e-04\n",
            "\n",
            "Epoch 00166: LearningRateScheduler setting learning rate to 0.0009467050306694229.\n",
            "Epoch 166/250\n",
            "2902/2902 [==============================] - 11s 4ms/step - loss: 36.2559 - mean_absolute_error: 36.2559 - val_loss: 56.7983 - val_mean_absolute_error: 56.7983 - lr: 9.4671e-04\n",
            "\n",
            "Epoch 00167: LearningRateScheduler setting learning rate to 0.0009460768599224311.\n",
            "Epoch 167/250\n",
            "2902/2902 [==============================] - 11s 4ms/step - loss: 30.1798 - mean_absolute_error: 30.1798 - val_loss: 41.7897 - val_mean_absolute_error: 41.7897 - lr: 9.4608e-04\n",
            "\n",
            "Epoch 00168: LearningRateScheduler setting learning rate to 0.0009454453204068099.\n",
            "Epoch 168/250\n",
            "2902/2902 [==============================] - 11s 4ms/step - loss: 31.6011 - mean_absolute_error: 31.6011 - val_loss: 48.4772 - val_mean_absolute_error: 48.4772 - lr: 9.4545e-04\n",
            "\n",
            "Epoch 00169: LearningRateScheduler setting learning rate to 0.0009448104121629569.\n",
            "Epoch 169/250\n",
            "2902/2902 [==============================] - 11s 4ms/step - loss: 31.5199 - mean_absolute_error: 31.5199 - val_loss: 43.4236 - val_mean_absolute_error: 43.4236 - lr: 9.4481e-04\n",
            "\n",
            "Epoch 00170: LearningRateScheduler setting learning rate to 0.00094417213523127.\n",
            "Epoch 170/250\n",
            "2902/2902 [==============================] - 11s 4ms/step - loss: 30.7406 - mean_absolute_error: 30.7406 - val_loss: 43.5202 - val_mean_absolute_error: 43.5202 - lr: 9.4417e-04\n",
            "\n",
            "Epoch 00171: LearningRateScheduler setting learning rate to 0.0009435305478202523.\n",
            "Epoch 171/250\n",
            "2902/2902 [==============================] - 11s 4ms/step - loss: 31.9196 - mean_absolute_error: 31.9196 - val_loss: 45.3044 - val_mean_absolute_error: 45.3044 - lr: 9.4353e-04\n",
            "\n",
            "Epoch 00172: LearningRateScheduler setting learning rate to 0.0009428855918017287.\n",
            "Epoch 172/250\n",
            "2902/2902 [==============================] - 11s 4ms/step - loss: 31.0863 - mean_absolute_error: 31.0863 - val_loss: 45.9664 - val_mean_absolute_error: 45.9664 - lr: 9.4289e-04\n",
            "\n",
            "Epoch 00173: LearningRateScheduler setting learning rate to 0.0009422373253837356.\n",
            "Epoch 173/250\n",
            "2902/2902 [==============================] - 11s 4ms/step - loss: 31.7938 - mean_absolute_error: 31.7938 - val_loss: 46.2715 - val_mean_absolute_error: 46.2715 - lr: 9.4224e-04\n",
            "\n",
            "Epoch 00174: LearningRateScheduler setting learning rate to 0.0009415857486059711.\n",
            "Epoch 174/250\n",
            "2902/2902 [==============================] - 11s 4ms/step - loss: 33.5631 - mean_absolute_error: 33.5631 - val_loss: 42.5153 - val_mean_absolute_error: 42.5153 - lr: 9.4159e-04\n",
            "\n",
            "Epoch 00175: LearningRateScheduler setting learning rate to 0.0009409308615081314.\n",
            "Epoch 175/250\n",
            "2902/2902 [==============================] - 11s 4ms/step - loss: 31.0722 - mean_absolute_error: 31.0722 - val_loss: 42.6514 - val_mean_absolute_error: 42.6514 - lr: 9.4093e-04\n",
            "\n",
            "Epoch 00176: LearningRateScheduler setting learning rate to 0.0009402726641299128.\n",
            "Epoch 176/250\n",
            "2902/2902 [==============================] - 11s 4ms/step - loss: 31.0120 - mean_absolute_error: 31.0120 - val_loss: 43.4889 - val_mean_absolute_error: 43.4889 - lr: 9.4027e-04\n",
            "\n",
            "Epoch 00177: LearningRateScheduler setting learning rate to 0.0009396111565110103.\n",
            "Epoch 177/250\n",
            "2902/2902 [==============================] - 11s 4ms/step - loss: 30.1647 - mean_absolute_error: 30.1647 - val_loss: 44.2990 - val_mean_absolute_error: 44.2990 - lr: 9.3961e-04\n",
            "\n",
            "Epoch 00178: LearningRateScheduler setting learning rate to 0.0009389463968575984.\n",
            "Epoch 178/250\n",
            "2902/2902 [==============================] - 11s 4ms/step - loss: 30.6494 - mean_absolute_error: 30.6494 - val_loss: 44.9897 - val_mean_absolute_error: 44.9897 - lr: 9.3895e-04\n",
            "\n",
            "Epoch 00179: LearningRateScheduler setting learning rate to 0.0009382783270424265.\n",
            "Epoch 179/250\n",
            "2902/2902 [==============================] - 11s 4ms/step - loss: 29.8866 - mean_absolute_error: 29.8866 - val_loss: 47.7321 - val_mean_absolute_error: 47.7321 - lr: 9.3828e-04\n",
            "\n",
            "Epoch 00180: LearningRateScheduler setting learning rate to 0.0009376070052712029.\n",
            "Epoch 180/250\n",
            "2902/2902 [==============================] - 11s 4ms/step - loss: 32.3154 - mean_absolute_error: 32.3154 - val_loss: 42.6245 - val_mean_absolute_error: 42.6245 - lr: 9.3761e-04\n",
            "\n",
            "Epoch 00181: LearningRateScheduler setting learning rate to 0.0009369324315829222.\n",
            "Epoch 181/250\n",
            "2902/2902 [==============================] - 11s 4ms/step - loss: 30.0209 - mean_absolute_error: 30.0209 - val_loss: 43.2343 - val_mean_absolute_error: 43.2343 - lr: 9.3693e-04\n",
            "\n",
            "Epoch 00182: LearningRateScheduler setting learning rate to 0.0009362546060165798.\n",
            "Epoch 182/250\n",
            "2902/2902 [==============================] - 11s 4ms/step - loss: 30.6666 - mean_absolute_error: 30.6666 - val_loss: 42.5599 - val_mean_absolute_error: 42.5599 - lr: 9.3625e-04\n",
            "\n",
            "Epoch 00183: LearningRateScheduler setting learning rate to 0.0009355735286111695.\n",
            "Epoch 183/250\n",
            "2902/2902 [==============================] - 11s 4ms/step - loss: 29.5913 - mean_absolute_error: 29.5913 - val_loss: 42.7031 - val_mean_absolute_error: 42.7031 - lr: 9.3557e-04\n",
            "\n",
            "Epoch 00184: LearningRateScheduler setting learning rate to 0.000934889199405685.\n",
            "Epoch 184/250\n",
            "2902/2902 [==============================] - 11s 4ms/step - loss: 32.7656 - mean_absolute_error: 32.7656 - val_loss: 44.7250 - val_mean_absolute_error: 44.7250 - lr: 9.3489e-04\n",
            "\n",
            "Epoch 00185: LearningRateScheduler setting learning rate to 0.0009342016184391191.\n",
            "Epoch 185/250\n",
            "2902/2902 [==============================] - 11s 4ms/step - loss: 29.3530 - mean_absolute_error: 29.3530 - val_loss: 50.2110 - val_mean_absolute_error: 50.2110 - lr: 9.3420e-04\n",
            "\n",
            "Epoch 00186: LearningRateScheduler setting learning rate to 0.0009335108439150833.\n",
            "Epoch 186/250\n",
            "2902/2902 [==============================] - 11s 4ms/step - loss: 31.1775 - mean_absolute_error: 31.1775 - val_loss: 42.3702 - val_mean_absolute_error: 42.3702 - lr: 9.3351e-04\n",
            "\n",
            "Epoch 00187: LearningRateScheduler setting learning rate to 0.000932816817707485.\n",
            "Epoch 187/250\n",
            "2902/2902 [==============================] - 11s 4ms/step - loss: 30.1440 - mean_absolute_error: 30.1440 - val_loss: 47.0626 - val_mean_absolute_error: 47.0626 - lr: 9.3282e-04\n",
            "\n",
            "Epoch 00188: LearningRateScheduler setting learning rate to 0.0009321195980194696.\n",
            "Epoch 188/250\n",
            "2902/2902 [==============================] - 11s 4ms/step - loss: 29.8299 - mean_absolute_error: 29.8299 - val_loss: 42.3277 - val_mean_absolute_error: 42.3277 - lr: 9.3212e-04\n",
            "\n",
            "Epoch 00189: LearningRateScheduler setting learning rate to 0.0009314191848893298.\n",
            "Epoch 189/250\n",
            "2902/2902 [==============================] - 11s 4ms/step - loss: 29.5517 - mean_absolute_error: 29.5517 - val_loss: 41.0702 - val_mean_absolute_error: 41.0702 - lr: 9.3142e-04\n",
            "\n",
            "Epoch 00190: LearningRateScheduler setting learning rate to 0.0009307155783553582.\n",
            "Epoch 190/250\n",
            "2902/2902 [==============================] - 11s 4ms/step - loss: 30.1909 - mean_absolute_error: 30.1909 - val_loss: 46.1149 - val_mean_absolute_error: 46.1149 - lr: 9.3072e-04\n",
            "\n",
            "Epoch 00191: LearningRateScheduler setting learning rate to 0.0009300087784558463.\n",
            "Epoch 191/250\n",
            "2902/2902 [==============================] - 11s 4ms/step - loss: 31.2755 - mean_absolute_error: 31.2755 - val_loss: 45.8788 - val_mean_absolute_error: 45.8788 - lr: 9.3001e-04\n",
            "\n",
            "Epoch 00192: LearningRateScheduler setting learning rate to 0.0009292987852290856.\n",
            "Epoch 192/250\n",
            "2902/2902 [==============================] - 11s 4ms/step - loss: 30.5401 - mean_absolute_error: 30.5401 - val_loss: 40.6154 - val_mean_absolute_error: 40.6154 - lr: 9.2930e-04\n",
            "\n",
            "Epoch 00193: LearningRateScheduler setting learning rate to 0.000928585656876358.\n",
            "Epoch 193/250\n",
            "2902/2902 [==============================] - 11s 4ms/step - loss: 29.1871 - mean_absolute_error: 29.1871 - val_loss: 43.0606 - val_mean_absolute_error: 43.0606 - lr: 9.2859e-04\n",
            "\n",
            "Epoch 00194: LearningRateScheduler setting learning rate to 0.0009278693352724969.\n",
            "Epoch 194/250\n",
            "2902/2902 [==============================] - 11s 4ms/step - loss: 27.9397 - mean_absolute_error: 27.9397 - val_loss: 41.7427 - val_mean_absolute_error: 41.7427 - lr: 9.2787e-04\n",
            "\n",
            "Epoch 00195: LearningRateScheduler setting learning rate to 0.0009271498786183182.\n",
            "Epoch 195/250\n",
            "2902/2902 [==============================] - 11s 4ms/step - loss: 29.3007 - mean_absolute_error: 29.3007 - val_loss: 44.8521 - val_mean_absolute_error: 44.8521 - lr: 9.2715e-04\n",
            "\n",
            "Epoch 00196: LearningRateScheduler setting learning rate to 0.0009264272869514135.\n",
            "Epoch 196/250\n",
            "2902/2902 [==============================] - 11s 4ms/step - loss: 30.3507 - mean_absolute_error: 30.3507 - val_loss: 41.1944 - val_mean_absolute_error: 41.1944 - lr: 9.2643e-04\n",
            "\n",
            "Epoch 00197: LearningRateScheduler setting learning rate to 0.0009257015603093735.\n",
            "Epoch 197/250\n",
            "2902/2902 [==============================] - 11s 4ms/step - loss: 28.7644 - mean_absolute_error: 28.7644 - val_loss: 43.5607 - val_mean_absolute_error: 43.5607 - lr: 9.2570e-04\n",
            "\n",
            "Epoch 00198: LearningRateScheduler setting learning rate to 0.0009249726987297877.\n",
            "Epoch 198/250\n",
            "2902/2902 [==============================] - 11s 4ms/step - loss: 31.0499 - mean_absolute_error: 31.0499 - val_loss: 44.2865 - val_mean_absolute_error: 44.2865 - lr: 9.2497e-04\n",
            "\n",
            "Epoch 00199: LearningRateScheduler setting learning rate to 0.0009242407022502462.\n",
            "Epoch 199/250\n",
            "2902/2902 [==============================] - 11s 4ms/step - loss: 29.1765 - mean_absolute_error: 29.1765 - val_loss: 40.9791 - val_mean_absolute_error: 40.9791 - lr: 9.2424e-04\n",
            "\n",
            "Epoch 00200: LearningRateScheduler setting learning rate to 0.0009235055709083376.\n",
            "Epoch 200/250\n",
            "2902/2902 [==============================] - 12s 4ms/step - loss: 28.0059 - mean_absolute_error: 28.0059 - val_loss: 41.1191 - val_mean_absolute_error: 41.1191 - lr: 9.2351e-04\n",
            "\n",
            "Epoch 00201: LearningRateScheduler setting learning rate to 0.0009227673629027823.\n",
            "Epoch 201/250\n",
            "2902/2902 [==============================] - 11s 4ms/step - loss: 27.1718 - mean_absolute_error: 27.1718 - val_loss: 40.1225 - val_mean_absolute_error: 40.1225 - lr: 9.2277e-04\n",
            "\n",
            "Epoch 00202: LearningRateScheduler setting learning rate to 0.0009220260782704703.\n",
            "Epoch 202/250\n",
            "2902/2902 [==============================] - 11s 4ms/step - loss: 29.0484 - mean_absolute_error: 29.0484 - val_loss: 42.6308 - val_mean_absolute_error: 42.6308 - lr: 9.2203e-04\n",
            "\n",
            "Epoch 00203: LearningRateScheduler setting learning rate to 0.0009212816588876247.\n",
            "Epoch 203/250\n",
            "2902/2902 [==============================] - 11s 4ms/step - loss: 31.8167 - mean_absolute_error: 31.8167 - val_loss: 44.9928 - val_mean_absolute_error: 44.9928 - lr: 9.2128e-04\n",
            "\n",
            "Epoch 00204: LearningRateScheduler setting learning rate to 0.0009205341629522662.\n",
            "Epoch 204/250\n",
            "2902/2902 [==============================] - 11s 4ms/step - loss: 27.6866 - mean_absolute_error: 27.6866 - val_loss: 46.2611 - val_mean_absolute_error: 46.2611 - lr: 9.2053e-04\n",
            "\n",
            "Epoch 00205: LearningRateScheduler setting learning rate to 0.0009197835905012838.\n",
            "Epoch 205/250\n",
            "2902/2902 [==============================] - 11s 4ms/step - loss: 29.6598 - mean_absolute_error: 29.6598 - val_loss: 41.2516 - val_mean_absolute_error: 41.2516 - lr: 9.1978e-04\n",
            "\n",
            "Epoch 00206: LearningRateScheduler setting learning rate to 0.0009190299997315347.\n",
            "Epoch 206/250\n",
            "2902/2902 [==============================] - 11s 4ms/step - loss: 26.8777 - mean_absolute_error: 26.8777 - val_loss: 41.3024 - val_mean_absolute_error: 41.3024 - lr: 9.1903e-04\n",
            "\n",
            "Epoch 00207: LearningRateScheduler setting learning rate to 0.000918273332519472.\n",
            "Epoch 207/250\n",
            "2902/2902 [==============================] - 11s 4ms/step - loss: 28.6989 - mean_absolute_error: 28.6989 - val_loss: 43.2004 - val_mean_absolute_error: 43.2004 - lr: 9.1827e-04\n",
            "\n",
            "Epoch 00208: LearningRateScheduler setting learning rate to 0.0009175136470614868.\n",
            "Epoch 208/250\n",
            "2902/2902 [==============================] - 11s 4ms/step - loss: 27.9182 - mean_absolute_error: 27.9182 - val_loss: 47.3904 - val_mean_absolute_error: 47.3904 - lr: 9.1751e-04\n",
            "\n",
            "Epoch 00209: LearningRateScheduler setting learning rate to 0.0009167508852344961.\n",
            "Epoch 209/250\n",
            "2902/2902 [==============================] - 11s 4ms/step - loss: 27.7733 - mean_absolute_error: 27.7733 - val_loss: 40.3403 - val_mean_absolute_error: 40.3403 - lr: 9.1675e-04\n",
            "\n",
            "Epoch 00210: LearningRateScheduler setting learning rate to 0.000915985105234425.\n",
            "Epoch 210/250\n",
            "2902/2902 [==============================] - 11s 4ms/step - loss: 27.8737 - mean_absolute_error: 27.8737 - val_loss: 45.7293 - val_mean_absolute_error: 45.7293 - lr: 9.1599e-04\n",
            "\n",
            "Epoch 00211: LearningRateScheduler setting learning rate to 0.0009152163070974617.\n",
            "Epoch 211/250\n",
            "2902/2902 [==============================] - 11s 4ms/step - loss: 27.1277 - mean_absolute_error: 27.1277 - val_loss: 45.2943 - val_mean_absolute_error: 45.2943 - lr: 9.1522e-04\n",
            "\n",
            "Epoch 00212: LearningRateScheduler setting learning rate to 0.0009144444908597927.\n",
            "Epoch 212/250\n",
            "2902/2902 [==============================] - 11s 4ms/step - loss: 29.7390 - mean_absolute_error: 29.7390 - val_loss: 40.2023 - val_mean_absolute_error: 40.2023 - lr: 9.1444e-04\n",
            "\n",
            "Epoch 00213: LearningRateScheduler setting learning rate to 0.0009136697147159476.\n",
            "Epoch 213/250\n",
            "2902/2902 [==============================] - 11s 4ms/step - loss: 29.1765 - mean_absolute_error: 29.1765 - val_loss: 42.4114 - val_mean_absolute_error: 42.4114 - lr: 9.1367e-04\n",
            "\n",
            "Epoch 00214: LearningRateScheduler setting learning rate to 0.0009128919205433047.\n",
            "Epoch 214/250\n",
            "2902/2902 [==============================] - 11s 4ms/step - loss: 28.9337 - mean_absolute_error: 28.9337 - val_loss: 39.8075 - val_mean_absolute_error: 39.8075 - lr: 9.1289e-04\n",
            "\n",
            "Epoch 00215: LearningRateScheduler setting learning rate to 0.0009121111665359271.\n",
            "Epoch 215/250\n",
            "2902/2902 [==============================] - 13s 4ms/step - loss: 26.0841 - mean_absolute_error: 26.0841 - val_loss: 40.8862 - val_mean_absolute_error: 40.8862 - lr: 9.1211e-04\n",
            "\n",
            "Epoch 00216: LearningRateScheduler setting learning rate to 0.0009113274527293023.\n",
            "Epoch 216/250\n",
            "2902/2902 [==============================] - 11s 4ms/step - loss: 27.4889 - mean_absolute_error: 27.4889 - val_loss: 94.9348 - val_mean_absolute_error: 94.9348 - lr: 9.1133e-04\n",
            "\n",
            "Epoch 00217: LearningRateScheduler setting learning rate to 0.0009105407210015044.\n",
            "Epoch 217/250\n",
            "2902/2902 [==============================] - 12s 4ms/step - loss: 27.1019 - mean_absolute_error: 27.1019 - val_loss: 40.7186 - val_mean_absolute_error: 40.7186 - lr: 9.1054e-04\n",
            "\n",
            "Epoch 00218: LearningRateScheduler setting learning rate to 0.0009097510295458973.\n",
            "Epoch 218/250\n",
            "2902/2902 [==============================] - 12s 4ms/step - loss: 27.3529 - mean_absolute_error: 27.3529 - val_loss: 44.4324 - val_mean_absolute_error: 44.4324 - lr: 9.0975e-04\n",
            "\n",
            "Epoch 00219: LearningRateScheduler setting learning rate to 0.0009089584365549152.\n",
            "Epoch 219/250\n",
            "2902/2902 [==============================] - 11s 4ms/step - loss: 27.6495 - mean_absolute_error: 27.6495 - val_loss: 39.7716 - val_mean_absolute_error: 39.7716 - lr: 9.0896e-04\n",
            "\n",
            "Epoch 00220: LearningRateScheduler setting learning rate to 0.0009081628839066302.\n",
            "Epoch 220/250\n",
            "2902/2902 [==============================] - 11s 4ms/step - loss: 28.4600 - mean_absolute_error: 28.4600 - val_loss: 46.4178 - val_mean_absolute_error: 46.4178 - lr: 9.0816e-04\n",
            "\n",
            "Epoch 00221: LearningRateScheduler setting learning rate to 0.0009073644297930102.\n",
            "Epoch 221/250\n",
            "2902/2902 [==============================] - 12s 4ms/step - loss: 26.5952 - mean_absolute_error: 26.5952 - val_loss: 41.2282 - val_mean_absolute_error: 41.2282 - lr: 9.0736e-04\n",
            "\n",
            "Epoch 00222: LearningRateScheduler setting learning rate to 0.0009065630160925912.\n",
            "Epoch 222/250\n",
            "2902/2902 [==============================] - 11s 4ms/step - loss: 27.7874 - mean_absolute_error: 27.7874 - val_loss: 43.2762 - val_mean_absolute_error: 43.2762 - lr: 9.0656e-04\n",
            "\n",
            "Epoch 00223: LearningRateScheduler setting learning rate to 0.0009057587009968753.\n",
            "Epoch 223/250\n",
            "2902/2902 [==============================] - 12s 4ms/step - loss: 28.7567 - mean_absolute_error: 28.7567 - val_loss: 58.6262 - val_mean_absolute_error: 58.6262 - lr: 9.0576e-04\n",
            "\n",
            "Epoch 00224: LearningRateScheduler setting learning rate to 0.000904951484540648.\n",
            "Epoch 224/250\n",
            "2902/2902 [==============================] - 11s 4ms/step - loss: 26.1844 - mean_absolute_error: 26.1844 - val_loss: 40.7088 - val_mean_absolute_error: 40.7088 - lr: 9.0495e-04\n",
            "\n",
            "Epoch 00225: LearningRateScheduler setting learning rate to 0.0009041413667586945.\n",
            "Epoch 225/250\n",
            "2902/2902 [==============================] - 12s 4ms/step - loss: 26.3478 - mean_absolute_error: 26.3478 - val_loss: 41.4743 - val_mean_absolute_error: 41.4743 - lr: 9.0414e-04\n",
            "\n",
            "Epoch 00226: LearningRateScheduler setting learning rate to 0.0009033283476857995.\n",
            "Epoch 226/250\n",
            "2902/2902 [==============================] - 12s 4ms/step - loss: 26.2712 - mean_absolute_error: 26.2712 - val_loss: 42.1134 - val_mean_absolute_error: 42.1134 - lr: 9.0333e-04\n",
            "\n",
            "Epoch 00227: LearningRateScheduler setting learning rate to 0.0009025124855118356.\n",
            "Epoch 227/250\n",
            "2902/2902 [==============================] - 12s 4ms/step - loss: 26.3371 - mean_absolute_error: 26.3371 - val_loss: 39.1466 - val_mean_absolute_error: 39.1466 - lr: 9.0251e-04\n",
            "\n",
            "Epoch 00228: LearningRateScheduler setting learning rate to 0.000901693722116033.\n",
            "Epoch 228/250\n",
            "2902/2902 [==============================] - 12s 4ms/step - loss: 27.2648 - mean_absolute_error: 27.2648 - val_loss: 39.9986 - val_mean_absolute_error: 39.9986 - lr: 9.0169e-04\n",
            "\n",
            "Epoch 00229: LearningRateScheduler setting learning rate to 0.000900872115687798.\n",
            "Epoch 229/250\n",
            "2902/2902 [==============================] - 12s 4ms/step - loss: 26.4618 - mean_absolute_error: 26.4618 - val_loss: 41.6728 - val_mean_absolute_error: 41.6728 - lr: 9.0087e-04\n",
            "\n",
            "Epoch 00230: LearningRateScheduler setting learning rate to 0.0009000476662612165.\n",
            "Epoch 230/250\n",
            "2902/2902 [==============================] - 11s 4ms/step - loss: 26.3999 - mean_absolute_error: 26.3999 - val_loss: 56.4346 - val_mean_absolute_error: 56.4346 - lr: 9.0005e-04\n",
            "\n",
            "Epoch 00231: LearningRateScheduler setting learning rate to 0.0008992203738703726.\n",
            "Epoch 231/250\n",
            "2902/2902 [==============================] - 12s 4ms/step - loss: 26.0162 - mean_absolute_error: 26.0162 - val_loss: 41.9348 - val_mean_absolute_error: 41.9348 - lr: 8.9922e-04\n",
            "\n",
            "Epoch 00232: LearningRateScheduler setting learning rate to 0.0008983902385493507.\n",
            "Epoch 232/250\n",
            "2902/2902 [==============================] - 11s 4ms/step - loss: 25.4115 - mean_absolute_error: 25.4115 - val_loss: 39.6114 - val_mean_absolute_error: 39.6114 - lr: 8.9839e-04\n",
            "\n",
            "Epoch 00233: LearningRateScheduler setting learning rate to 0.0008975573184859284.\n",
            "Epoch 233/250\n",
            "2902/2902 [==============================] - 12s 4ms/step - loss: 25.9273 - mean_absolute_error: 25.9273 - val_loss: 39.8732 - val_mean_absolute_error: 39.8732 - lr: 8.9756e-04\n",
            "\n",
            "Epoch 00234: LearningRateScheduler setting learning rate to 0.0008967215555600297.\n",
            "Epoch 234/250\n",
            "2902/2902 [==============================] - 12s 4ms/step - loss: 28.1341 - mean_absolute_error: 28.1341 - val_loss: 47.9755 - val_mean_absolute_error: 47.9755 - lr: 8.9672e-04\n",
            "\n",
            "Epoch 00235: LearningRateScheduler setting learning rate to 0.0008958830079589664.\n",
            "Epoch 235/250\n",
            "2902/2902 [==============================] - 12s 4ms/step - loss: 39.5545 - mean_absolute_error: 39.5545 - val_loss: 48.1123 - val_mean_absolute_error: 48.1123 - lr: 8.9588e-04\n",
            "\n",
            "Epoch 00236: LearningRateScheduler setting learning rate to 0.0008950416757161235.\n",
            "Epoch 236/250\n",
            "2902/2902 [==============================] - 12s 4ms/step - loss: 28.4737 - mean_absolute_error: 28.4737 - val_loss: 40.9619 - val_mean_absolute_error: 40.9619 - lr: 8.9504e-04\n",
            "\n",
            "Epoch 00237: LearningRateScheduler setting learning rate to 0.0008941975588648848.\n",
            "Epoch 237/250\n",
            "2902/2902 [==============================] - 12s 4ms/step - loss: 24.2088 - mean_absolute_error: 24.2088 - val_loss: 44.2899 - val_mean_absolute_error: 44.2899 - lr: 8.9420e-04\n",
            "\n",
            "Epoch 00238: LearningRateScheduler setting learning rate to 0.0008933506574386345.\n",
            "Epoch 238/250\n",
            "2902/2902 [==============================] - 12s 4ms/step - loss: 26.3571 - mean_absolute_error: 26.3571 - val_loss: 44.3043 - val_mean_absolute_error: 44.3043 - lr: 8.9335e-04\n",
            "\n",
            "Epoch 00239: LearningRateScheduler setting learning rate to 0.0008925009714707551.\n",
            "Epoch 239/250\n",
            "2902/2902 [==============================] - 12s 4ms/step - loss: 26.9578 - mean_absolute_error: 26.9578 - val_loss: 38.1793 - val_mean_absolute_error: 38.1793 - lr: 8.9250e-04\n",
            "\n",
            "Epoch 00240: LearningRateScheduler setting learning rate to 0.0008916485591466972.\n",
            "Epoch 240/250\n",
            "2902/2902 [==============================] - 12s 4ms/step - loss: 26.2458 - mean_absolute_error: 26.2458 - val_loss: 40.0365 - val_mean_absolute_error: 40.0365 - lr: 8.9165e-04\n",
            "\n",
            "Epoch 00241: LearningRateScheduler setting learning rate to 0.0008907934204991453.\n",
            "Epoch 241/250\n",
            "2902/2902 [==============================] - 12s 4ms/step - loss: 26.0001 - mean_absolute_error: 26.0001 - val_loss: 54.8016 - val_mean_absolute_error: 54.8016 - lr: 8.9079e-04\n",
            "\n",
            "Epoch 00242: LearningRateScheduler setting learning rate to 0.0008899354974091816.\n",
            "Epoch 242/250\n",
            "2902/2902 [==============================] - 12s 4ms/step - loss: 25.1492 - mean_absolute_error: 25.1492 - val_loss: 43.5847 - val_mean_absolute_error: 43.5847 - lr: 8.8994e-04\n",
            "\n",
            "Epoch 00243: LearningRateScheduler setting learning rate to 0.0008890748480615566.\n",
            "Epoch 243/250\n",
            "2902/2902 [==============================] - 12s 4ms/step - loss: 26.6663 - mean_absolute_error: 26.6663 - val_loss: 41.7986 - val_mean_absolute_error: 41.7986 - lr: 8.8907e-04\n",
            "\n",
            "Epoch 00244: LearningRateScheduler setting learning rate to 0.0008882115306400926.\n",
            "Epoch 244/250\n",
            "2902/2902 [==============================] - 12s 4ms/step - loss: 26.5766 - mean_absolute_error: 26.5766 - val_loss: 44.1168 - val_mean_absolute_error: 44.1168 - lr: 8.8821e-04\n",
            "\n",
            "Epoch 00245: LearningRateScheduler setting learning rate to 0.0008873454870258688.\n",
            "Epoch 245/250\n",
            "2902/2902 [==============================] - 12s 4ms/step - loss: 24.1828 - mean_absolute_error: 24.1828 - val_loss: 40.6133 - val_mean_absolute_error: 40.6133 - lr: 8.8735e-04\n",
            "\n",
            "Epoch 00246: LearningRateScheduler setting learning rate to 0.0008864767172515682.\n",
            "Epoch 246/250\n",
            "2902/2902 [==============================] - 12s 4ms/step - loss: 25.8567 - mean_absolute_error: 25.8567 - val_loss: 38.6939 - val_mean_absolute_error: 38.6939 - lr: 8.8648e-04\n",
            "\n",
            "Epoch 00247: LearningRateScheduler setting learning rate to 0.0008856052795003128.\n",
            "Epoch 247/250\n",
            "2902/2902 [==============================] - 12s 4ms/step - loss: 24.0492 - mean_absolute_error: 24.0492 - val_loss: 41.7785 - val_mean_absolute_error: 41.7785 - lr: 8.8561e-04\n",
            "\n",
            "Epoch 00248: LearningRateScheduler setting learning rate to 0.0008847311738040873.\n",
            "Epoch 248/250\n",
            "2902/2902 [==============================] - 12s 4ms/step - loss: 27.1347 - mean_absolute_error: 27.1347 - val_loss: 42.3210 - val_mean_absolute_error: 42.3210 - lr: 8.8473e-04\n",
            "\n",
            "Epoch 00249: LearningRateScheduler setting learning rate to 0.0008838544001948747.\n",
            "Epoch 249/250\n",
            "2902/2902 [==============================] - 12s 4ms/step - loss: 24.8627 - mean_absolute_error: 24.8627 - val_loss: 37.8103 - val_mean_absolute_error: 37.8103 - lr: 8.8385e-04\n",
            "\n",
            "Epoch 00250: LearningRateScheduler setting learning rate to 0.0008829749587046588.\n",
            "Epoch 250/250\n",
            "2902/2902 [==============================] - 12s 4ms/step - loss: 24.1779 - mean_absolute_error: 24.1779 - val_loss: 39.3106 - val_mean_absolute_error: 39.3106 - lr: 8.8297e-04\n"
          ]
        }
      ]
    },
    {
      "cell_type": "markdown",
      "source": [
        "## **RESULTS**"
      ],
      "metadata": {
        "id": "X57kf0Kre7Hd"
      }
    },
    {
      "cell_type": "markdown",
      "source": [
        "### Training results"
      ],
      "metadata": {
        "id": "spLnwQa5fVt-"
      }
    },
    {
      "cell_type": "markdown",
      "metadata": {
        "id": "xC0XJkwvzDE2"
      },
      "source": [
        "We parse the `history` dictionary into `loss` and `validation loss`. By using them, we calculate the average losses."
      ]
    },
    {
      "cell_type": "code",
      "metadata": {
        "id": "0pnVhCQMy-FJ"
      },
      "source": [
        "loss_values = history.history['loss']\n",
        "val_loss_values = history.history['val_loss']\n",
        "metric = history.history['mean_absolute_error']\n",
        "if lr_schedule.value != 1:\n",
        "  lr = history.history['lr']\n",
        "avg_loss = sum(loss_values)/len(loss_values)\n",
        "avg_val_loss = sum(val_loss_values)/len(val_loss_values)\n",
        "avg_metric = sum(metric)/len(metric)"
      ],
      "execution_count": 75,
      "outputs": []
    },
    {
      "cell_type": "code",
      "source": [
        "print(avg_loss)\n",
        "print(avg_val_loss)\n",
        "print(avg_metric)\n",
        "if lr_schedule.value != 1:\n",
        "  print(min(lr))"
      ],
      "metadata": {
        "id": "cyw0SM9DWbYO",
        "colab": {
          "base_uri": "https://localhost:8080/"
        },
        "outputId": "6be14fec-b5bc-4c8e-95cc-db1427ba393e"
      },
      "execution_count": 76,
      "outputs": [
        {
          "output_type": "stream",
          "name": "stdout",
          "text": [
            "48.957771026611326\n",
            "59.77759461975098\n",
            "48.95777113342285\n",
            "0.00088297494\n"
          ]
        }
      ]
    },
    {
      "cell_type": "markdown",
      "metadata": {
        "id": "IGNsuO7VyycD"
      },
      "source": [
        "#### Visualisation\n"
      ]
    },
    {
      "cell_type": "markdown",
      "source": [
        "Loss and validation loss:"
      ],
      "metadata": {
        "id": "xqQTRU-94OVd"
      }
    },
    {
      "cell_type": "code",
      "metadata": {
        "id": "YlTlv80Gy-IE",
        "colab": {
          "base_uri": "https://localhost:8080/",
          "height": 279
        },
        "outputId": "b213aeba-7544-4b42-ac14-8317145def01"
      },
      "source": [
        "epochs = range(1, len(loss_values) + 1)\n",
        "plt.plot(epochs, loss_values, 'b', label='Training loss')\n",
        "plt.plot(epochs, val_loss_values, 'r', label='Validation loss')\n",
        "plt.xlabel('Epochs')\n",
        "plt.ylabel('Loss')\n",
        "plt.legend()\n",
        "plt.show()"
      ],
      "execution_count": 77,
      "outputs": [
        {
          "output_type": "display_data",
          "data": {
            "image/png": "[encoded data removed]",
            "text/plain": [
              "<Figure size 432x288 with 1 Axes>"
            ]
          },
          "metadata": {
            "needs_background": "light"
          }
        }
      ]
    },
    {
      "cell_type": "markdown",
      "source": [
        "Learning rate:"
      ],
      "metadata": {
        "id": "QyNzNhHf4Sfd"
      }
    },
    {
      "cell_type": "code",
      "source": [
        "if lr_schedule.value != 1:\n",
        "  plt.plot(epochs, lr, 'b', label='Learning Rate')\n",
        "  plt.yscale('log')"
      ],
      "metadata": {
        "id": "uNiIYEfh4SMW",
        "colab": {
          "base_uri": "https://localhost:8080/",
          "height": 265
        },
        "outputId": "2d6501b1-6680-4c2b-ed5b-19344eb2ea1f"
      },
      "execution_count": 78,
      "outputs": [
        {
          "output_type": "display_data",
          "data": {
            "image/png": "[encoded data removed]",
            "text/plain": [
              "<Figure size 432x288 with 1 Axes>"
            ]
          },
          "metadata": {
            "needs_background": "light"
          }
        }
      ]
    },
    {
      "cell_type": "markdown",
      "metadata": {
        "id": "UWVfKT5oBYAW"
      },
      "source": [
        "### Test results"
      ]
    },
    {
      "cell_type": "markdown",
      "source": [
        "To measure the successes of tests, we decided to use `R squared` metric."
      ],
      "metadata": {
        "id": "gDMbccVqgzrS"
      }
    },
    {
      "cell_type": "code",
      "metadata": {
        "id": "Xdk9dcp_Eb3L"
      },
      "source": [
        "y_predicted = model.predict(X_test)"
      ],
      "execution_count": 79,
      "outputs": []
    },
    {
      "cell_type": "code",
      "metadata": {
        "id": "YcbY5ouKB67M",
        "colab": {
          "base_uri": "https://localhost:8080/"
        },
        "outputId": "96660f17-0144-48c9-c68c-cf8b4aad4800"
      },
      "source": [
        "testR2Value = r2_score(y_test,y_predicted)\n",
        "print(\"Training Set R-Square=\", testR2Value)"
      ],
      "execution_count": 80,
      "outputs": [
        {
          "output_type": "stream",
          "name": "stdout",
          "text": [
            "Training Set R-Square= 0.922974953698734\n"
          ]
        }
      ]
    },
    {
      "cell_type": "markdown",
      "source": [
        "#### Visualisation\n",
        "\n",
        "And below, we present the distribution of the predicted values over true values for the MLP model."
      ],
      "metadata": {
        "id": "c3f05JclbBAQ"
      }
    },
    {
      "cell_type": "code",
      "source": [
        "plt.figure(figsize=(10,10))\n",
        "plt.scatter(y_test, y_predicted, c='crimson')\n",
        "plt.yscale('log')\n",
        "plt.xscale('log')\n",
        "p1 = max(max(y_predicted), max(y_test))\n",
        "p2 = min(min(y_predicted), min(y_test))\n",
        "plt.plot([p1, p2], [p1, p2], 'b-')\n",
        "plt.xlabel('True Values', fontsize=15)\n",
        "plt.ylabel('Predictions', fontsize=15)\n",
        "plt.axis('equal')\n",
        "plt.show()"
      ],
      "metadata": {
        "id": "WP52yc_Nh7CX",
        "colab": {
          "base_uri": "https://localhost:8080/",
          "height": 668
        },
        "outputId": "16847fc0-7f29-4e00-f626-f93185c0b4ea"
      },
      "execution_count": 82,
      "outputs": [
        {
          "output_type": "stream",
          "name": "stderr",
          "text": [
            "/usr/local/lib/python3.7/dist-packages/numpy/core/_asarray.py:136: VisibleDeprecationWarning: Creating an ndarray from ragged nested sequences (which is a list-or-tuple of lists-or-tuples-or ndarrays with different lengths or shapes) is deprecated. If you meant to do this, you must specify 'dtype=object' when creating the ndarray\n",
            "  return array(a, dtype, copy=False, order=order, subok=True)\n"
          ]
        },
        {
          "output_type": "display_data",
          "data": {
            "image/png": "[encoded data removed]",
            "text/plain": [
              "<Figure size 720x720 with 1 Axes>"
            ]
          },
          "metadata": {
            "needs_background": "light"
          }
        }
      ]
    }
  ]
}